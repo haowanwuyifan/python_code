{
 "cells": [
  {
   "cell_type": "code",
   "execution_count": null,
   "metadata": {
    "collapsed": true
   },
   "outputs": [],
   "source": [
    "import numpy as np\n",
    "import matplotlib.pyplot as plt\n",
    "from sklearn import svm\n",
    "\n",
    "# Assuming clf is your trained SVM classifier\n",
    "# X_test is your test dataset and y_test are the ground truth labels for your test dataset\n",
    "\n"
   ]
  },
  {
   "cell_type": "code",
   "execution_count": null,
   "outputs": [],
   "source": [],
   "metadata": {
    "collapsed": false
   }
  },
  {
   "cell_type": "code",
   "execution_count": null,
   "outputs": [],
   "source": [
    "predictions = clf.predict(X_test)\n",
    "\n",
    "# Find indices of wrong predictions\n",
    "wrong_indices = np.where(predictions != y_test)[0]\n",
    "\n",
    "# Plot a few of the wrongly predicted images\n",
    "fig, axes = plt.subplots(nrows=2, ncols=5, figsize=(15, 8))  # Change nrows and ncols based on your preference\n",
    "\n",
    "for i, ax in enumerate(axes.ravel()):\n",
    "    if i >= len(wrong_indices):\n",
    "        break\n",
    "    idx = wrong_indices[i]\n",
    "    ax.imshow(X_test[idx].reshape(some_width, some_height), cmap='gray') # Adjust the shape based on your image dimensions\n",
    "    ax.set_title(f\"True: {y_test[idx]}, Pred: {predictions[idx]}\")\n",
    "    ax.axis('off')  # Hide axes\n",
    "\n",
    "plt.tight_layout()\n",
    "plt.show()"
   ],
   "metadata": {
    "collapsed": false
   }
  }
 ],
 "metadata": {
  "kernelspec": {
   "display_name": "Python 3",
   "language": "python",
   "name": "python3"
  },
  "language_info": {
   "codemirror_mode": {
    "name": "ipython",
    "version": 2
   },
   "file_extension": ".py",
   "mimetype": "text/x-python",
   "name": "python",
   "nbconvert_exporter": "python",
   "pygments_lexer": "ipython2",
   "version": "2.7.6"
  }
 },
 "nbformat": 4,
 "nbformat_minor": 0
}
