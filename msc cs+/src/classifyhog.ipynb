{
 "cells": [
  {
   "cell_type": "code",
   "execution_count": 1,
   "id": "fd5726da",
   "metadata": {
    "execution": {
     "iopub.execute_input": "2023-08-18T18:36:26.950916Z",
     "iopub.status.busy": "2023-08-18T18:36:26.950335Z",
     "iopub.status.idle": "2023-08-18T18:36:28.447003Z",
     "shell.execute_reply": "2023-08-18T18:36:28.445953Z"
    },
    "papermill": {
     "duration": 1.506753,
     "end_time": "2023-08-18T18:36:28.449527",
     "exception": false,
     "start_time": "2023-08-18T18:36:26.942774",
     "status": "completed"
    },
    "tags": []
   },
   "outputs": [
    {
     "name": "stderr",
     "output_type": "stream",
     "text": [
      "/opt/conda/lib/python3.10/site-packages/scipy/__init__.py:146: UserWarning: A NumPy version >=1.16.5 and <1.23.0 is required for this version of SciPy (detected version 1.23.5\n",
      "  warnings.warn(f\"A NumPy version >={np_minversion} and <{np_maxversion}\"\n"
     ]
    }
   ],
   "source": [
    "import numpy as np\n",
    "from sklearn.model_selection import train_test_split, GridSearchCV\n",
    "from sklearn.svm import LinearSVC\n",
    "from sklearn.metrics import accuracy_score\n",
    "from sklearn.datasets import load_digits\n",
    "from sklearn.preprocessing import StandardScaler, MinMaxScaler\n",
    "from sklearn.pipeline import make_pipeline, Pipeline\n",
    "from sklearn.decomposition import PCA\n",
    "from sklearn.model_selection import cross_val_score"
   ]
  },
  {
   "cell_type": "code",
   "execution_count": 2,
   "id": "677e762d",
   "metadata": {
    "execution": {
     "iopub.execute_input": "2023-08-18T18:36:28.462334Z",
     "iopub.status.busy": "2023-08-18T18:36:28.461929Z",
     "iopub.status.idle": "2023-08-18T18:36:28.467579Z",
     "shell.execute_reply": "2023-08-18T18:36:28.466709Z"
    },
    "papermill": {
     "duration": 0.014797,
     "end_time": "2023-08-18T18:36:28.469736",
     "exception": false,
     "start_time": "2023-08-18T18:36:28.454939",
     "status": "completed"
    },
    "tags": []
   },
   "outputs": [],
   "source": [
    "%matplotlib inline"
   ]
  },
  {
   "cell_type": "code",
   "execution_count": 3,
   "id": "34321923",
   "metadata": {
    "execution": {
     "iopub.execute_input": "2023-08-18T18:36:28.482416Z",
     "iopub.status.busy": "2023-08-18T18:36:28.481472Z",
     "iopub.status.idle": "2023-08-18T18:36:28.487179Z",
     "shell.execute_reply": "2023-08-18T18:36:28.486028Z"
    },
    "papermill": {
     "duration": 0.014582,
     "end_time": "2023-08-18T18:36:28.489658",
     "exception": false,
     "start_time": "2023-08-18T18:36:28.475076",
     "status": "completed"
    },
    "tags": []
   },
   "outputs": [],
   "source": [
    "import pickle\n",
    "import os\n",
    "\n",
    "# trainset = []\n",
    "# valset = []\n",
    "# totledata = []\n",
    "# totlelabel = []\n",
    "# folder = '/kaggle/input/subtrainset8/subtrain_set'\n",
    "# file_path = os.listdir(folder)\n",
    "# print(file_path)\n",
    "# for file in file_path:\n",
    "#     with open(os.path.join(folder, file), 'rb') as f:\n",
    "#         images = pickle.load(f)\n",
    "#         labels = pickle.load(f)\n",
    "# #         print(labels.shape)\n",
    "#     images = np.squeeze(images)\n",
    "#     totledata.append(images)\n",
    "#     totlelabel.append(labels)\n",
    "    \n",
    "# x_train = totledata[1:]\n",
    "# y_train = totlelabel[1:]\n",
    "# x_test = totledata[0]\n",
    "# y_test = totlelabel[0]\n",
    "\n"
   ]
  },
  {
   "cell_type": "code",
   "execution_count": 4,
   "id": "3175c325",
   "metadata": {
    "execution": {
     "iopub.execute_input": "2023-08-18T18:36:28.502086Z",
     "iopub.status.busy": "2023-08-18T18:36:28.501654Z",
     "iopub.status.idle": "2023-08-18T18:36:28.506066Z",
     "shell.execute_reply": "2023-08-18T18:36:28.504926Z"
    },
    "papermill": {
     "duration": 0.013505,
     "end_time": "2023-08-18T18:36:28.508359",
     "exception": false,
     "start_time": "2023-08-18T18:36:28.494854",
     "status": "completed"
    },
    "tags": []
   },
   "outputs": [],
   "source": [
    "# x_train = np.concatenate(totledata, axis=0)\n",
    "# y_train = np.concatenate(totlelabel, axis=0)"
   ]
  },
  {
   "cell_type": "code",
   "execution_count": 5,
   "id": "dcec4b8c",
   "metadata": {
    "execution": {
     "iopub.execute_input": "2023-08-18T18:36:28.520596Z",
     "iopub.status.busy": "2023-08-18T18:36:28.520198Z",
     "iopub.status.idle": "2023-08-18T18:36:28.524658Z",
     "shell.execute_reply": "2023-08-18T18:36:28.523577Z"
    },
    "papermill": {
     "duration": 0.013142,
     "end_time": "2023-08-18T18:36:28.526765",
     "exception": false,
     "start_time": "2023-08-18T18:36:28.513623",
     "status": "completed"
    },
    "tags": []
   },
   "outputs": [],
   "source": [
    "# x_train.shape"
   ]
  },
  {
   "cell_type": "code",
   "execution_count": 6,
   "id": "7e0bae99",
   "metadata": {
    "execution": {
     "iopub.execute_input": "2023-08-18T18:36:28.539256Z",
     "iopub.status.busy": "2023-08-18T18:36:28.538259Z",
     "iopub.status.idle": "2023-08-18T18:36:28.542654Z",
     "shell.execute_reply": "2023-08-18T18:36:28.541707Z"
    },
    "papermill": {
     "duration": 0.013026,
     "end_time": "2023-08-18T18:36:28.544935",
     "exception": false,
     "start_time": "2023-08-18T18:36:28.531909",
     "status": "completed"
    },
    "tags": []
   },
   "outputs": [],
   "source": [
    "# with open(os.path.join('/kaggle/working/', 'trainset.pkl'), 'wb') as f:\n",
    "#     pickle.dump(x_train, f)\n",
    "#     pickle.dump(y_train, f)"
   ]
  },
  {
   "cell_type": "code",
   "execution_count": 7,
   "id": "c8b484b8",
   "metadata": {
    "execution": {
     "iopub.execute_input": "2023-08-18T18:36:28.557802Z",
     "iopub.status.busy": "2023-08-18T18:36:28.557199Z",
     "iopub.status.idle": "2023-08-18T18:36:53.282384Z",
     "shell.execute_reply": "2023-08-18T18:36:53.281183Z"
    },
    "papermill": {
     "duration": 24.734986,
     "end_time": "2023-08-18T18:36:53.285314",
     "exception": false,
     "start_time": "2023-08-18T18:36:28.550328",
     "status": "completed"
    },
    "tags": []
   },
   "outputs": [],
   "source": [
    "with open('/kaggle/input/newdataset2/trainset.pkl', 'rb') as f:\n",
    "    x_train = pickle.load(f)\n",
    "    y_train = pickle.load(f)"
   ]
  },
  {
   "cell_type": "code",
   "execution_count": 8,
   "id": "8d456c9f",
   "metadata": {
    "execution": {
     "iopub.execute_input": "2023-08-18T18:36:53.297877Z",
     "iopub.status.busy": "2023-08-18T18:36:53.297499Z",
     "iopub.status.idle": "2023-08-18T18:36:56.760146Z",
     "shell.execute_reply": "2023-08-18T18:36:56.758966Z"
    },
    "papermill": {
     "duration": 3.471956,
     "end_time": "2023-08-18T18:36:56.762927",
     "exception": false,
     "start_time": "2023-08-18T18:36:53.290971",
     "status": "completed"
    },
    "tags": []
   },
   "outputs": [],
   "source": [
    "with open('/kaggle/input/newdataset2/testset.pkl', 'rb') as f:\n",
    "    x_test = pickle.load(f)\n",
    "    y_test = pickle.load(f)"
   ]
  },
  {
   "cell_type": "code",
   "execution_count": 9,
   "id": "e60f70f0",
   "metadata": {
    "execution": {
     "iopub.execute_input": "2023-08-18T18:36:56.776889Z",
     "iopub.status.busy": "2023-08-18T18:36:56.776480Z",
     "iopub.status.idle": "2023-08-18T18:36:56.782352Z",
     "shell.execute_reply": "2023-08-18T18:36:56.781220Z"
    },
    "papermill": {
     "duration": 0.016184,
     "end_time": "2023-08-18T18:36:56.784565",
     "exception": false,
     "start_time": "2023-08-18T18:36:56.768381",
     "status": "completed"
    },
    "tags": []
   },
   "outputs": [
    {
     "name": "stdout",
     "output_type": "stream",
     "text": [
      "(28000, 28800)\n",
      "(3999, 28800)\n"
     ]
    }
   ],
   "source": [
    "print(x_train.shape)\n",
    "print(x_test.shape)"
   ]
  },
  {
   "cell_type": "code",
   "execution_count": 10,
   "id": "cbfa626b",
   "metadata": {
    "execution": {
     "iopub.execute_input": "2023-08-18T18:36:56.798820Z",
     "iopub.status.busy": "2023-08-18T18:36:56.797117Z",
     "iopub.status.idle": "2023-08-18T19:57:29.688660Z",
     "shell.execute_reply": "2023-08-18T19:57:29.685338Z"
    },
    "papermill": {
     "duration": 4832.92371,
     "end_time": "2023-08-18T19:57:29.713710",
     "exception": false,
     "start_time": "2023-08-18T18:36:56.790000",
     "status": "completed"
    },
    "tags": []
   },
   "outputs": [
    {
     "name": "stdout",
     "output_type": "stream",
     "text": [
      "(28000, 1839)\n",
      "(3999, 1839)\n"
     ]
    }
   ],
   "source": [
    "scaler = MinMaxScaler()\n",
    "scaler.fit(x_train)\n",
    "scaledx_train = scaler.transform(x_train)\n",
    "scaledx_test = scaler.transform(x_test)\n",
    "\n",
    "val_persent = 0.95\n",
    "pca = PCA(n_components=val_persent)\n",
    "pca.fit(scaledx_train)\n",
    "new_train = pca.transform(scaledx_train)\n",
    "new_test = pca.transform(scaledx_test)\n",
    "\n",
    "print(new_train.shape)\n",
    "print(new_test.shape)"
   ]
  },
  {
   "cell_type": "code",
   "execution_count": 11,
   "id": "ab7fd747",
   "metadata": {
    "execution": {
     "iopub.execute_input": "2023-08-18T19:57:29.738257Z",
     "iopub.status.busy": "2023-08-18T19:57:29.736159Z",
     "iopub.status.idle": "2023-08-18T19:57:29.747857Z",
     "shell.execute_reply": "2023-08-18T19:57:29.746556Z"
    },
    "papermill": {
     "duration": 0.02834,
     "end_time": "2023-08-18T19:57:29.751299",
     "exception": false,
     "start_time": "2023-08-18T19:57:29.722959",
     "status": "completed"
    },
    "tags": []
   },
   "outputs": [],
   "source": [
    "# val_persent = 0.95\n",
    "pipe = Pipeline([\n",
    "    ('scaler', MinMaxScaler()),\n",
    "    ('svm', LinearSVC(max_iter=10000))\n",
    "])"
   ]
  },
  {
   "cell_type": "code",
   "execution_count": 12,
   "id": "2493c650",
   "metadata": {
    "execution": {
     "iopub.execute_input": "2023-08-18T19:57:29.775351Z",
     "iopub.status.busy": "2023-08-18T19:57:29.774712Z",
     "iopub.status.idle": "2023-08-18T19:57:29.799457Z",
     "shell.execute_reply": "2023-08-18T19:57:29.797923Z"
    },
    "papermill": {
     "duration": 0.039492,
     "end_time": "2023-08-18T19:57:29.802251",
     "exception": false,
     "start_time": "2023-08-18T19:57:29.762759",
     "status": "completed"
    },
    "tags": []
   },
   "outputs": [
    {
     "name": "stdout",
     "output_type": "stream",
     "text": [
      "[1. 1. 1. 1. 1. 1. 1. 1.]\n"
     ]
    }
   ],
   "source": [
    "from sklearn.utils.class_weight import compute_class_weight\n",
    "class_weight = 'balanced'\n",
    "classes = np.array([0, 1, 2, 3, 4, 5, 6, 7])\n",
    "weight = compute_class_weight(class_weight='balanced', classes=classes, y=y_train)\n",
    "print(weight)"
   ]
  },
  {
   "cell_type": "code",
   "execution_count": 13,
   "id": "5924d17d",
   "metadata": {
    "execution": {
     "iopub.execute_input": "2023-08-18T19:57:29.815444Z",
     "iopub.status.busy": "2023-08-18T19:57:29.815014Z",
     "iopub.status.idle": "2023-08-18T19:57:29.821768Z",
     "shell.execute_reply": "2023-08-18T19:57:29.820853Z"
    },
    "papermill": {
     "duration": 0.016369,
     "end_time": "2023-08-18T19:57:29.824338",
     "exception": false,
     "start_time": "2023-08-18T19:57:29.807969",
     "status": "completed"
    },
    "tags": []
   },
   "outputs": [
    {
     "name": "stdout",
     "output_type": "stream",
     "text": [
      "[1.  0.5 1.7 1.  1.  1.6 1.  1.6]\n"
     ]
    }
   ],
   "source": [
    "weight[1] = weight[1]*0.5\n",
    "weight[2] = weight[2]*1.7\n",
    "weight[5] = weight[5]*1.6\n",
    "weight[7] = weight[7]*1.6\n",
    "print(weight)"
   ]
  },
  {
   "cell_type": "code",
   "execution_count": 14,
   "id": "b7a725ac",
   "metadata": {
    "execution": {
     "iopub.execute_input": "2023-08-18T19:57:29.837854Z",
     "iopub.status.busy": "2023-08-18T19:57:29.837117Z",
     "iopub.status.idle": "2023-08-18T19:57:29.843699Z",
     "shell.execute_reply": "2023-08-18T19:57:29.842585Z"
    },
    "papermill": {
     "duration": 0.016163,
     "end_time": "2023-08-18T19:57:29.846369",
     "exception": false,
     "start_time": "2023-08-18T19:57:29.830206",
     "status": "completed"
    },
    "tags": []
   },
   "outputs": [
    {
     "name": "stdout",
     "output_type": "stream",
     "text": [
      "{0: 1.0, 1: 0.5, 2: 1.7, 3: 1.0, 4: 1.0, 5: 1.6, 6: 1.0, 7: 1.6}\n"
     ]
    }
   ],
   "source": [
    "class_balance = {classes[i]: weight[i] for i in range(len(classes))}\n",
    "print(class_balance)"
   ]
  },
  {
   "cell_type": "code",
   "execution_count": 15,
   "id": "94d49050",
   "metadata": {
    "execution": {
     "iopub.execute_input": "2023-08-18T19:57:29.860817Z",
     "iopub.status.busy": "2023-08-18T19:57:29.859769Z",
     "iopub.status.idle": "2023-08-18T20:24:15.915455Z",
     "shell.execute_reply": "2023-08-18T20:24:15.914214Z"
    },
    "papermill": {
     "duration": 1606.070709,
     "end_time": "2023-08-18T20:24:15.923048",
     "exception": false,
     "start_time": "2023-08-18T19:57:29.852339",
     "status": "completed"
    },
    "tags": []
   },
   "outputs": [
    {
     "name": "stdout",
     "output_type": "stream",
     "text": [
      "Best Parameters: {'svm__C': 0.01}\n",
      "Best Cross-Validation Score: 0.1966785714285714\n"
     ]
    }
   ],
   "source": [
    "# svc = LinearSVC()\n",
    "\n",
    "# Set up parameter grid for GridSearchCV\n",
    "param_grid = {\n",
    "    'svm__C': [0.001, 0.01]\n",
    "}\n",
    "\n",
    "# Perform grid search with cross-validation\n",
    "grid_search = GridSearchCV(pipe, param_grid, cv=5)\n",
    "grid_search.fit(new_train, y_train)\n",
    "\n",
    "# Get the best parameters and score\n",
    "best_params = grid_search.best_params_\n",
    "best_score = grid_search.best_score_\n",
    "\n",
    "print(\"Best Parameters:\", best_params)\n",
    "print(\"Best Cross-Validation Score:\", best_score)"
   ]
  },
  {
   "cell_type": "code",
   "execution_count": 16,
   "id": "4fab627f",
   "metadata": {
    "execution": {
     "iopub.execute_input": "2023-08-18T20:24:15.937563Z",
     "iopub.status.busy": "2023-08-18T20:24:15.937129Z",
     "iopub.status.idle": "2023-08-18T20:24:16.038507Z",
     "shell.execute_reply": "2023-08-18T20:24:16.037129Z"
    },
    "papermill": {
     "duration": 0.113226,
     "end_time": "2023-08-18T20:24:16.042741",
     "exception": false,
     "start_time": "2023-08-18T20:24:15.929515",
     "status": "completed"
    },
    "tags": []
   },
   "outputs": [],
   "source": [
    "# best_svc = LinearSVC(C=best_params['C'], max_iter=10000, class_weight='balanced')\n",
    "\n",
    "# scores = cross_val_score(best_svc, new_train, y_train, cv=5)\n",
    "\n",
    "# print(\"Cross-Validation Scores:\", scores)\n",
    "\n",
    "# # Calculate and print the mean and standard deviation of the scores\n",
    "# print(\"Mean Score:\", np.mean(scores))\n",
    "# print(\"Standard Deviation:\", np.std(scores))\n",
    "\n",
    "# best_svc.fit(x_train, y_train)\n",
    "\n",
    "# Predict on the test set\n",
    "y_pred = grid_search.predict(new_test)\n",
    "# Calculate accuracy on the test set\n",
    "# accuracy = accuracy_score(y_test, y_pred)\n",
    "# print(\"Test Set Accuracy:\", accuracy)"
   ]
  },
  {
   "cell_type": "code",
   "execution_count": 17,
   "id": "7c2943eb",
   "metadata": {
    "execution": {
     "iopub.execute_input": "2023-08-18T20:24:16.065375Z",
     "iopub.status.busy": "2023-08-18T20:24:16.064733Z",
     "iopub.status.idle": "2023-08-18T20:24:16.075222Z",
     "shell.execute_reply": "2023-08-18T20:24:16.073804Z"
    },
    "papermill": {
     "duration": 0.025293,
     "end_time": "2023-08-18T20:24:16.078440",
     "exception": false,
     "start_time": "2023-08-18T20:24:16.053147",
     "status": "completed"
    },
    "tags": []
   },
   "outputs": [],
   "source": [
    "\n",
    "with open(os.path.join('/kaggle/working/', 'lndbestmodel.pkl'), 'wb') as f:\n",
    "    pickle.dump(grid_search, f)"
   ]
  },
  {
   "cell_type": "code",
   "execution_count": 18,
   "id": "7a9c0831",
   "metadata": {
    "execution": {
     "iopub.execute_input": "2023-08-18T20:24:16.100697Z",
     "iopub.status.busy": "2023-08-18T20:24:16.100107Z",
     "iopub.status.idle": "2023-08-18T20:24:16.625078Z",
     "shell.execute_reply": "2023-08-18T20:24:16.623632Z"
    },
    "papermill": {
     "duration": 0.539643,
     "end_time": "2023-08-18T20:24:16.627993",
     "exception": false,
     "start_time": "2023-08-18T20:24:16.088350",
     "status": "completed"
    },
    "tags": []
   },
   "outputs": [],
   "source": [
    "import matplotlib.pyplot as plt\n",
    "from sklearn.metrics import accuracy_score, precision_score, recall_score, f1_score\n",
    "from sklearn.metrics import roc_curve, roc_auc_score, confusion_matrix\n",
    "from sklearn.model_selection import train_test_split\n",
    "import seaborn as sns"
   ]
  },
  {
   "cell_type": "code",
   "execution_count": 19,
   "id": "5e6a9b04",
   "metadata": {
    "execution": {
     "iopub.execute_input": "2023-08-18T20:24:16.641701Z",
     "iopub.status.busy": "2023-08-18T20:24:16.641300Z",
     "iopub.status.idle": "2023-08-18T20:24:16.662041Z",
     "shell.execute_reply": "2023-08-18T20:24:16.660917Z"
    },
    "papermill": {
     "duration": 0.030954,
     "end_time": "2023-08-18T20:24:16.664931",
     "exception": false,
     "start_time": "2023-08-18T20:24:16.633977",
     "status": "completed"
    },
    "tags": []
   },
   "outputs": [
    {
     "name": "stdout",
     "output_type": "stream",
     "text": [
      "Accuracy: 0.1900475118779695\n",
      "Precision: 0.1836377085849583\n",
      "Recall: 0.1900475118779695\n",
      "F1-Score: 0.17623946334577287\n"
     ]
    }
   ],
   "source": [
    "# Calculate evaluation metrics\n",
    "accuracy = accuracy_score(y_test, y_pred)\n",
    "precision = precision_score(y_test, y_pred, average='weighted')\n",
    "recall = recall_score(y_test, y_pred, average='weighted')\n",
    "f1 = f1_score(y_test, y_pred, average='weighted')\n",
    "\n",
    "print(\"Accuracy:\", accuracy)\n",
    "print(\"Precision:\", precision)\n",
    "print(\"Recall:\", recall)\n",
    "print(\"F1-Score:\", f1)"
   ]
  },
  {
   "cell_type": "code",
   "execution_count": 20,
   "id": "4b0444ee",
   "metadata": {
    "execution": {
     "iopub.execute_input": "2023-08-18T20:24:16.679714Z",
     "iopub.status.busy": "2023-08-18T20:24:16.678458Z",
     "iopub.status.idle": "2023-08-18T20:24:16.682998Z",
     "shell.execute_reply": "2023-08-18T20:24:16.682233Z"
    },
    "papermill": {
     "duration": 0.013842,
     "end_time": "2023-08-18T20:24:16.684988",
     "exception": false,
     "start_time": "2023-08-18T20:24:16.671146",
     "status": "completed"
    },
    "tags": []
   },
   "outputs": [],
   "source": [
    "# # Calculate ROC curve and AUC\n",
    "# y_scores = best_svc.decision_function(new_test)\n",
    "# roc_auc = roc_auc_score(y_test, y_scores)"
   ]
  },
  {
   "cell_type": "code",
   "execution_count": 21,
   "id": "da60844e",
   "metadata": {
    "execution": {
     "iopub.execute_input": "2023-08-18T20:24:16.699245Z",
     "iopub.status.busy": "2023-08-18T20:24:16.698811Z",
     "iopub.status.idle": "2023-08-18T20:24:16.703638Z",
     "shell.execute_reply": "2023-08-18T20:24:16.702480Z"
    },
    "papermill": {
     "duration": 0.014824,
     "end_time": "2023-08-18T20:24:16.705982",
     "exception": false,
     "start_time": "2023-08-18T20:24:16.691158",
     "status": "completed"
    },
    "tags": []
   },
   "outputs": [],
   "source": [
    "# # Plot ROC curve\n",
    "# fpr, tpr, thresholds = roc_curve(y_test, y_scores)\n",
    "# plt.figure()\n",
    "# plt.plot(fpr, tpr, color='darkorange', lw=2, label='ROC curve (area = %0.2f)' % roc_auc)\n",
    "# plt.plot([0, 1], [0, 1], color='navy', lw=2, linestyle='--')\n",
    "# plt.xlim([0.0, 1.0])\n",
    "# plt.ylim([0.0, 1.05])\n",
    "# plt.xlabel('False Positive Rate')\n",
    "# plt.ylabel('True Positive Rate')\n",
    "# plt.title('Receiver Operating Characteristic')\n",
    "# plt.legend(loc=\"lower right\")\n",
    "# plt.show()"
   ]
  },
  {
   "cell_type": "code",
   "execution_count": 22,
   "id": "b5b29651",
   "metadata": {
    "execution": {
     "iopub.execute_input": "2023-08-18T20:24:16.720422Z",
     "iopub.status.busy": "2023-08-18T20:24:16.719750Z",
     "iopub.status.idle": "2023-08-18T20:24:17.164421Z",
     "shell.execute_reply": "2023-08-18T20:24:17.163161Z"
    },
    "papermill": {
     "duration": 0.45629,
     "end_time": "2023-08-18T20:24:17.168420",
     "exception": false,
     "start_time": "2023-08-18T20:24:16.712130",
     "status": "completed"
    },
    "tags": []
   },
   "outputs": [
    {
     "data": {
      "image/png": "[encoded data removed]",
      "text/plain": [
       "<Figure size 800x600 with 1 Axes>"
      ]
     },
     "metadata": {},
     "output_type": "display_data"
    }
   ],
   "source": [
    "# Plot confusion matrix\n",
    "conf_matrix = confusion_matrix(y_test, y_pred)\n",
    "plt.figure(figsize=(8, 6))\n",
    "sns.heatmap(conf_matrix, annot=True, fmt=\"d\", cmap=\"Blues\", cbar=False)\n",
    "plt.xlabel(\"Predicted\")\n",
    "plt.ylabel(\"Actual\")\n",
    "plt.title(\"Confusion Matrix\")\n",
    "plt.show()"
   ]
  }
 ],
 "metadata": {
  "kernelspec": {
   "display_name": "Python 3",
   "language": "python",
   "name": "python3"
  },
  "language_info": {
   "codemirror_mode": {
    "name": "ipython",
    "version": 3
   },
   "file_extension": ".py",
   "mimetype": "text/x-python",
   "name": "python",
   "nbconvert_exporter": "python",
   "pygments_lexer": "ipython3",
   "version": "3.10.12"
  },
  "papermill": {
   "default_parameters": {},
   "duration": 6480.923331,
   "end_time": "2023-08-18T20:24:17.919610",
   "environment_variables": {},
   "exception": null,
   "input_path": "__notebook__.ipynb",
   "output_path": "__notebook__.ipynb",
   "parameters": {},
   "start_time": "2023-08-18T18:36:16.996279",
   "version": "2.4.0"
  }
 },
 "nbformat": 4,
 "nbformat_minor": 5
}
