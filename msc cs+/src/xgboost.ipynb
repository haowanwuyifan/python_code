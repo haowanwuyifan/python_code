{
 "cells": [
  {
   "cell_type": "code",
   "execution_count": 1,
   "id": "629e9580",
   "metadata": {
    "execution": {
     "iopub.execute_input": "2023-08-15T17:33:25.916301Z",
     "iopub.status.busy": "2023-08-15T17:33:25.915533Z",
     "iopub.status.idle": "2023-08-15T17:33:27.591384Z",
     "shell.execute_reply": "2023-08-15T17:33:27.590165Z"
    },
    "papermill": {
     "duration": 1.684982,
     "end_time": "2023-08-15T17:33:27.594296",
     "exception": false,
     "start_time": "2023-08-15T17:33:25.909314",
     "status": "completed"
    },
    "tags": []
   },
   "outputs": [
    {
     "name": "stderr",
     "output_type": "stream",
     "text": [
      "/opt/conda/lib/python3.10/site-packages/scipy/__init__.py:146: UserWarning: A NumPy version >=1.16.5 and <1.23.0 is required for this version of SciPy (detected version 1.23.5\n",
      "  warnings.warn(f\"A NumPy version >={np_minversion} and <{np_maxversion}\"\n"
     ]
    }
   ],
   "source": [
    "from xgboost import XGBRegressor as XGBR\n",
    "from sklearn.model_selection import KFold, cross_val_score, train_test_split\n",
    "import matplotlib.pyplot as plt\n",
    "from sklearn.metrics import mean_squared_error\n",
    "from sklearn.model_selection import GridSearchCV\n",
    "import pandas as pd\n",
    "import numpy as np\n",
    "import pickle\n",
    "import os\n",
    "from sklearn.preprocessing import StandardScaler, MinMaxScaler\n",
    "from sklearn.pipeline import make_pipeline, Pipeline\n",
    "from sklearn.decomposition import PCA"
   ]
  },
  {
   "cell_type": "code",
   "execution_count": 2,
   "id": "9c02bc9b",
   "metadata": {
    "execution": {
     "iopub.execute_input": "2023-08-15T17:33:27.604302Z",
     "iopub.status.busy": "2023-08-15T17:33:27.603854Z",
     "iopub.status.idle": "2023-08-15T17:33:28.037243Z",
     "shell.execute_reply": "2023-08-15T17:33:28.036068Z"
    },
    "papermill": {
     "duration": 0.441359,
     "end_time": "2023-08-15T17:33:28.039878",
     "exception": false,
     "start_time": "2023-08-15T17:33:27.598519",
     "status": "completed"
    },
    "tags": []
   },
   "outputs": [],
   "source": [
    "with open('/kaggle/input/newdataset3/trainset.pkl', 'rb') as f:\n",
    "    x_train = pickle.load(f)\n",
    "    y_train = pickle.load(f)"
   ]
  },
  {
   "cell_type": "code",
   "execution_count": 3,
   "id": "cdcb21b7",
   "metadata": {
    "execution": {
     "iopub.execute_input": "2023-08-15T17:33:28.049779Z",
     "iopub.status.busy": "2023-08-15T17:33:28.049383Z",
     "iopub.status.idle": "2023-08-15T17:33:28.082615Z",
     "shell.execute_reply": "2023-08-15T17:33:28.081639Z"
    },
    "papermill": {
     "duration": 0.041133,
     "end_time": "2023-08-15T17:33:28.085173",
     "exception": false,
     "start_time": "2023-08-15T17:33:28.044040",
     "status": "completed"
    },
    "tags": []
   },
   "outputs": [],
   "source": [
    "with open('/kaggle/input/newdataset3/testset.pkl', 'rb') as f:\n",
    "    x_test = pickle.load(f)\n",
    "    y_test = pickle.load(f)"
   ]
  },
  {
   "cell_type": "code",
   "execution_count": 4,
   "id": "8a8708be",
   "metadata": {
    "execution": {
     "iopub.execute_input": "2023-08-15T17:33:28.095224Z",
     "iopub.status.busy": "2023-08-15T17:33:28.094821Z",
     "iopub.status.idle": "2023-08-15T17:33:28.100067Z",
     "shell.execute_reply": "2023-08-15T17:33:28.099016Z"
    },
    "papermill": {
     "duration": 0.013098,
     "end_time": "2023-08-15T17:33:28.102532",
     "exception": false,
     "start_time": "2023-08-15T17:33:28.089434",
     "status": "completed"
    },
    "tags": []
   },
   "outputs": [],
   "source": [
    "val_persent = 0.95\n",
    "pipe = Pipeline([\n",
    "    ('scaler', MinMaxScaler()),\n",
    "    ('PCA', PCA(n_components=val_persent))\n",
    "])"
   ]
  },
  {
   "cell_type": "code",
   "execution_count": 5,
   "id": "4fbb240c",
   "metadata": {
    "execution": {
     "iopub.execute_input": "2023-08-15T17:33:28.112764Z",
     "iopub.status.busy": "2023-08-15T17:33:28.112144Z",
     "iopub.status.idle": "2023-08-15T17:33:29.318557Z",
     "shell.execute_reply": "2023-08-15T17:33:29.316889Z"
    },
    "papermill": {
     "duration": 1.216272,
     "end_time": "2023-08-15T17:33:29.322953",
     "exception": false,
     "start_time": "2023-08-15T17:33:28.106681",
     "status": "completed"
    },
    "tags": []
   },
   "outputs": [],
   "source": [
    "pipe.fit(x_train)\n",
    "new_train = pipe.transform(x_train)\n",
    "new_test = pipe.transform(x_test)"
   ]
  },
  {
   "cell_type": "code",
   "execution_count": 6,
   "id": "df7cc27d",
   "metadata": {
    "execution": {
     "iopub.execute_input": "2023-08-15T17:33:29.342665Z",
     "iopub.status.busy": "2023-08-15T17:33:29.341753Z",
     "iopub.status.idle": "2023-08-15T17:33:29.350093Z",
     "shell.execute_reply": "2023-08-15T17:33:29.348993Z"
    },
    "papermill": {
     "duration": 0.022108,
     "end_time": "2023-08-15T17:33:29.353610",
     "exception": false,
     "start_time": "2023-08-15T17:33:29.331502",
     "status": "completed"
    },
    "tags": []
   },
   "outputs": [
    {
     "name": "stdout",
     "output_type": "stream",
     "text": [
      "(152652, 43)\n",
      "(3999, 43)\n"
     ]
    }
   ],
   "source": [
    "print(new_train.shape)\n",
    "print(new_test.shape)"
   ]
  },
  {
   "cell_type": "code",
   "execution_count": 7,
   "id": "be946098",
   "metadata": {
    "execution": {
     "iopub.execute_input": "2023-08-15T17:33:29.374314Z",
     "iopub.status.busy": "2023-08-15T17:33:29.373630Z",
     "iopub.status.idle": "2023-08-15T17:33:29.382594Z",
     "shell.execute_reply": "2023-08-15T17:33:29.381422Z"
    },
    "papermill": {
     "duration": 0.023357,
     "end_time": "2023-08-15T17:33:29.386156",
     "exception": false,
     "start_time": "2023-08-15T17:33:29.362799",
     "status": "completed"
    },
    "tags": []
   },
   "outputs": [],
   "source": [
    "param_test1 = {'max_depth':range(3,10,2),'min_child_weight':range(2,7,2)}\n",
    " \n",
    "# gsearch1 = GridSearchCV(estimator =XGBR( learning_rate =0.1, n_estimators=140, max_depth=5,\n",
    "#                                          min_child_weight=1, gamma=0, subsample=0.8, colsample_bytree=0.8, objective= 'reg:linear',\n",
    "#                                          nthread=4, scale_pos_weight=1, seed=27),\n",
    "#                                          param_grid = param_test1, scoring='r2',n_jobs=4, cv=5)\n",
    "# gsearch1.fit(x_train,y_train)\n",
    "# best_params = gsearch1.best_params_\n",
    "# best_score = gsearch1.best_score_\n",
    "\n",
    "# print(\"Best Parameters:\", best_params)\n",
    "# print(\"Best Cross-Validation Score:\", best_score)"
   ]
  },
  {
   "cell_type": "code",
   "execution_count": 8,
   "id": "34813c29",
   "metadata": {
    "execution": {
     "iopub.execute_input": "2023-08-15T17:33:29.406590Z",
     "iopub.status.busy": "2023-08-15T17:33:29.405893Z",
     "iopub.status.idle": "2023-08-15T19:19:27.516720Z",
     "shell.execute_reply": "2023-08-15T19:19:27.515411Z"
    },
    "papermill": {
     "duration": 6358.128914,
     "end_time": "2023-08-15T19:19:27.524072",
     "exception": false,
     "start_time": "2023-08-15T17:33:29.395158",
     "status": "completed"
    },
    "tags": []
   },
   "outputs": [
    {
     "name": "stderr",
     "output_type": "stream",
     "text": [
      "/opt/conda/lib/python3.10/site-packages/scipy/__init__.py:146: UserWarning: A NumPy version >=1.16.5 and <1.23.0 is required for this version of SciPy (detected version 1.23.5\n",
      "  warnings.warn(f\"A NumPy version >={np_minversion} and <{np_maxversion}\"\n",
      "/opt/conda/lib/python3.10/site-packages/scipy/__init__.py:146: UserWarning: A NumPy version >=1.16.5 and <1.23.0 is required for this version of SciPy (detected version 1.23.5\n",
      "  warnings.warn(f\"A NumPy version >={np_minversion} and <{np_maxversion}\"\n",
      "/opt/conda/lib/python3.10/site-packages/scipy/__init__.py:146: UserWarning: A NumPy version >=1.16.5 and <1.23.0 is required for this version of SciPy (detected version 1.23.5\n",
      "  warnings.warn(f\"A NumPy version >={np_minversion} and <{np_maxversion}\"\n",
      "/opt/conda/lib/python3.10/site-packages/scipy/__init__.py:146: UserWarning: A NumPy version >=1.16.5 and <1.23.0 is required for this version of SciPy (detected version 1.23.5\n",
      "  warnings.warn(f\"A NumPy version >={np_minversion} and <{np_maxversion}\"\n"
     ]
    },
    {
     "name": "stdout",
     "output_type": "stream",
     "text": [
      "[17:33:31] WARNING: ../src/objective/regression_obj.cu:213: reg:linear is now deprecated in favor of reg:squarederror.\n",
      "[17:35:29] WARNING: ../src/objective/regression_obj.cu:213: reg:linear is now deprecated in favor of reg:squarederror.\n",
      "[17:37:28] WARNING: ../src/objective/regression_obj.cu:213: reg:linear is now deprecated in favor of reg:squarederror.\n",
      "[17:39:25] WARNING: ../src/objective/regression_obj.cu:213: reg:linear is now deprecated in favor of reg:squarederror.\n",
      "[17:41:21] WARNING: ../src/objective/regression_obj.cu:213: reg:linear is now deprecated in favor of reg:squarederror.\n",
      "[17:45:19] WARNING: ../src/objective/regression_obj.cu:213: reg:linear is now deprecated in favor of reg:squarederror.\n",
      "[17:49:14] WARNING: ../src/objective/regression_obj.cu:213: reg:linear is now deprecated in favor of reg:squarederror.\n",
      "[17:53:13] WARNING: ../src/objective/regression_obj.cu:213: reg:linear is now deprecated in favor of reg:squarederror.\n",
      "[17:57:07] WARNING: ../src/objective/regression_obj.cu:213: reg:linear is now deprecated in favor of reg:squarederror.\n",
      "[18:05:01] WARNING: ../src/objective/regression_obj.cu:213: reg:linear is now deprecated in favor of reg:squarederror.\n",
      "[18:12:47] WARNING: ../src/objective/regression_obj.cu:213: reg:linear is now deprecated in favor of reg:squarederror.\n",
      "[18:20:18] WARNING: ../src/objective/regression_obj.cu:213: reg:linear is now deprecated in favor of reg:squarederror.\n",
      "[18:27:47] WARNING: ../src/objective/regression_obj.cu:213: reg:linear is now deprecated in favor of reg:squarederror.\n",
      "[18:41:57] WARNING: ../src/objective/regression_obj.cu:213: reg:linear is now deprecated in favor of reg:squarederror.\n",
      "[18:55:54] WARNING: ../src/objective/regression_obj.cu:213: reg:linear is now deprecated in favor of reg:squarederror.\n",
      "[19:18:09] WARNING: ../src/objective/regression_obj.cu:213: reg:linear is now deprecated in favor of reg:squarederror.\n",
      "Best Parameters: {'max_depth': 9, 'min_child_weight': 2}\n",
      "Best Cross-Validation Score: 0.0038315134808698304\n"
     ]
    }
   ],
   "source": [
    "param_test3 = {'gamma':[i/100.0 for i in range(0,100)]}\n",
    "gsearch1 = GridSearchCV(estimator =XGBR( learning_rate =0.1, n_estimators=140, max_depth=9,\n",
    "                                         min_child_weight=2, gamma=0, subsample=0.8, colsample_bytree=0.8, objective= 'reg:linear',\n",
    "                                         nthread=4, scale_pos_weight=1, seed=27),\n",
    "                                         param_grid = param_test1, scoring='r2',n_jobs=4, cv=5)\n",
    "gsearch1.fit(x_train,y_train)\n",
    "best_params = gsearch1.best_params_\n",
    "best_score = gsearch1.best_score_\n",
    "\n",
    "print(\"Best Parameters:\", best_params)\n",
    "print(\"Best Cross-Validation Score:\", best_score)"
   ]
  },
  {
   "cell_type": "code",
   "execution_count": 9,
   "id": "5d54ff07",
   "metadata": {
    "execution": {
     "iopub.execute_input": "2023-08-15T19:19:27.536153Z",
     "iopub.status.busy": "2023-08-15T19:19:27.535743Z",
     "iopub.status.idle": "2023-08-15T19:19:27.541567Z",
     "shell.execute_reply": "2023-08-15T19:19:27.540509Z"
    },
    "papermill": {
     "duration": 0.014986,
     "end_time": "2023-08-15T19:19:27.543912",
     "exception": false,
     "start_time": "2023-08-15T19:19:27.528926",
     "status": "completed"
    },
    "tags": []
   },
   "outputs": [],
   "source": [
    "param_test4 = {'subsample':[i/10.0 for i in range(1,10)],'colsample_bytree':[i/10.0 for i in range(1,10)]}"
   ]
  },
  {
   "cell_type": "code",
   "execution_count": 10,
   "id": "583995eb",
   "metadata": {
    "execution": {
     "iopub.execute_input": "2023-08-15T19:19:27.555588Z",
     "iopub.status.busy": "2023-08-15T19:19:27.555227Z",
     "iopub.status.idle": "2023-08-15T19:19:27.560233Z",
     "shell.execute_reply": "2023-08-15T19:19:27.559149Z"
    },
    "papermill": {
     "duration": 0.013687,
     "end_time": "2023-08-15T19:19:27.562556",
     "exception": false,
     "start_time": "2023-08-15T19:19:27.548869",
     "status": "completed"
    },
    "tags": []
   },
   "outputs": [],
   "source": [
    "param_test5 = {'reg_alpha':[0, 0.001, 0.005, 0.01, 0.05]}"
   ]
  },
  {
   "cell_type": "code",
   "execution_count": 11,
   "id": "91ce5e45",
   "metadata": {
    "execution": {
     "iopub.execute_input": "2023-08-15T19:19:27.575239Z",
     "iopub.status.busy": "2023-08-15T19:19:27.574150Z",
     "iopub.status.idle": "2023-08-15T19:19:27.579666Z",
     "shell.execute_reply": "2023-08-15T19:19:27.578741Z"
    },
    "papermill": {
     "duration": 0.014291,
     "end_time": "2023-08-15T19:19:27.581924",
     "exception": false,
     "start_time": "2023-08-15T19:19:27.567633",
     "status": "completed"
    },
    "tags": []
   },
   "outputs": [],
   "source": [
    "param_test6 = {'learning_rate':[0, 0.001, 0.005, 0.01, 0.05,0.1,0.5,1]}"
   ]
  }
 ],
 "metadata": {
  "kernelspec": {
   "display_name": "Python 3",
   "language": "python",
   "name": "python3"
  },
  "language_info": {
   "codemirror_mode": {
    "name": "ipython",
    "version": 3
   },
   "file_extension": ".py",
   "mimetype": "text/x-python",
   "name": "python",
   "nbconvert_exporter": "python",
   "pygments_lexer": "ipython3",
   "version": "3.10.12"
  },
  "papermill": {
   "default_parameters": {},
   "duration": 6375.749505,
   "end_time": "2023-08-15T19:19:30.223210",
   "environment_variables": {},
   "exception": null,
   "input_path": "__notebook__.ipynb",
   "output_path": "__notebook__.ipynb",
   "parameters": {},
   "start_time": "2023-08-15T17:33:14.473705",
   "version": "2.4.0"
  }
 },
 "nbformat": 4,
 "nbformat_minor": 5
}
