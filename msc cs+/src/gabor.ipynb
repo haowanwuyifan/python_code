{
 "cells": [
  {
   "cell_type": "code",
   "execution_count": 1,
   "id": "89bb8cee",
   "metadata": {
    "execution": {
     "iopub.execute_input": "2023-08-15T01:54:33.569340Z",
     "iopub.status.busy": "2023-08-15T01:54:33.568784Z",
     "iopub.status.idle": "2023-08-15T01:54:33.584472Z",
     "shell.execute_reply": "2023-08-15T01:54:33.583362Z"
    },
    "papermill": {
     "duration": 0.032471,
     "end_time": "2023-08-15T01:54:33.587150",
     "exception": false,
     "start_time": "2023-08-15T01:54:33.554679",
     "status": "completed"
    },
    "tags": []
   },
   "outputs": [],
   "source": [
    "%matplotlib inline"
   ]
  },
  {
   "cell_type": "code",
   "execution_count": 2,
   "id": "0cc950b9",
   "metadata": {
    "execution": {
     "iopub.execute_input": "2023-08-15T01:54:33.612675Z",
     "iopub.status.busy": "2023-08-15T01:54:33.612290Z",
     "iopub.status.idle": "2023-08-15T01:54:37.270409Z",
     "shell.execute_reply": "2023-08-15T01:54:37.269319Z"
    },
    "papermill": {
     "duration": 3.674168,
     "end_time": "2023-08-15T01:54:37.273159",
     "exception": false,
     "start_time": "2023-08-15T01:54:33.598991",
     "status": "completed"
    },
    "tags": []
   },
   "outputs": [],
   "source": [
    "import torch\n",
    "import torch.nn as nn\n",
    "import torch.nn.functional as F\n",
    "import numpy as np\n",
    "import matplotlib.pyplot as plt\n",
    "from tqdm import tqdm"
   ]
  },
  {
   "cell_type": "code",
   "execution_count": 3,
   "id": "3103f18b",
   "metadata": {
    "execution": {
     "iopub.execute_input": "2023-08-15T01:54:37.298299Z",
     "iopub.status.busy": "2023-08-15T01:54:37.297602Z",
     "iopub.status.idle": "2023-08-15T01:54:37.868236Z",
     "shell.execute_reply": "2023-08-15T01:54:37.867108Z"
    },
    "papermill": {
     "duration": 0.586351,
     "end_time": "2023-08-15T01:54:37.871083",
     "exception": false,
     "start_time": "2023-08-15T01:54:37.284732",
     "status": "completed"
    },
    "tags": []
   },
   "outputs": [],
   "source": [
    "from torch.utils.data import Dataset, DataLoader\n",
    "import torchvision.transforms as transforms\n",
    "from PIL import Image\n",
    "import cv2 as cv\n",
    "import cv2\n",
    "import cv2.cuda"
   ]
  },
  {
   "cell_type": "code",
   "execution_count": 4,
   "id": "ba112be9",
   "metadata": {
    "execution": {
     "iopub.execute_input": "2023-08-15T01:54:37.896896Z",
     "iopub.status.busy": "2023-08-15T01:54:37.896498Z",
     "iopub.status.idle": "2023-08-15T01:54:39.268030Z",
     "shell.execute_reply": "2023-08-15T01:54:39.266943Z"
    },
    "papermill": {
     "duration": 1.387671,
     "end_time": "2023-08-15T01:54:39.271065",
     "exception": false,
     "start_time": "2023-08-15T01:54:37.883394",
     "status": "completed"
    },
    "tags": []
   },
   "outputs": [
    {
     "name": "stderr",
     "output_type": "stream",
     "text": [
      "/opt/conda/lib/python3.10/site-packages/scipy/__init__.py:146: UserWarning: A NumPy version >=1.16.5 and <1.23.0 is required for this version of SciPy (detected version 1.23.5\n",
      "  warnings.warn(f\"A NumPy version >={np_minversion} and <{np_maxversion}\"\n"
     ]
    }
   ],
   "source": [
    "from sklearn.preprocessing import StandardScaler\n",
    "from sklearn.decomposition import PCA"
   ]
  },
  {
   "cell_type": "code",
   "execution_count": 5,
   "id": "9681eac7",
   "metadata": {
    "execution": {
     "iopub.execute_input": "2023-08-15T01:54:39.298281Z",
     "iopub.status.busy": "2023-08-15T01:54:39.297850Z",
     "iopub.status.idle": "2023-08-15T01:54:39.302853Z",
     "shell.execute_reply": "2023-08-15T01:54:39.301637Z"
    },
    "papermill": {
     "duration": 0.02097,
     "end_time": "2023-08-15T01:54:39.305423",
     "exception": false,
     "start_time": "2023-08-15T01:54:39.284453",
     "status": "completed"
    },
    "tags": []
   },
   "outputs": [],
   "source": [
    "import csv\n",
    "import sys\n",
    "import os"
   ]
  },
  {
   "cell_type": "code",
   "execution_count": 6,
   "id": "6523cf10",
   "metadata": {
    "execution": {
     "iopub.execute_input": "2023-08-15T01:54:39.331440Z",
     "iopub.status.busy": "2023-08-15T01:54:39.330208Z",
     "iopub.status.idle": "2023-08-15T01:54:39.345938Z",
     "shell.execute_reply": "2023-08-15T01:54:39.344573Z"
    },
    "papermill": {
     "duration": 0.031539,
     "end_time": "2023-08-15T01:54:39.348720",
     "exception": false,
     "start_time": "2023-08-15T01:54:39.317181",
     "status": "completed"
    },
    "tags": []
   },
   "outputs": [],
   "source": [
    "sys.path.append('/kaggle/input/source')\n",
    "import preprocess"
   ]
  },
  {
   "cell_type": "code",
   "execution_count": 7,
   "id": "15ae8f07",
   "metadata": {
    "execution": {
     "iopub.execute_input": "2023-08-15T01:54:39.375257Z",
     "iopub.status.busy": "2023-08-15T01:54:39.374808Z",
     "iopub.status.idle": "2023-08-15T01:54:39.380977Z",
     "shell.execute_reply": "2023-08-15T01:54:39.379758Z"
    },
    "papermill": {
     "duration": 0.021931,
     "end_time": "2023-08-15T01:54:39.383325",
     "exception": false,
     "start_time": "2023-08-15T01:54:39.361394",
     "status": "completed"
    },
    "tags": []
   },
   "outputs": [],
   "source": [
    "# import dlib\n",
    "\n",
    "# class LandMark():\n",
    "#     def __init__(self, img):\n",
    "#         self.img = img\n",
    "        \n",
    "#     def extract(self):\n",
    "#         detector = dlib.get_frontal_face_detector()\n",
    "#         dets = detector(self.img, 0)  # 使用detector进行人脸检测 dets为返回的结果\n",
    "        \n",
    "#         predictor_path = \"/kaggle/input/facemodel/shape_predictor_68_face_landmarks.dat\"\n",
    "#         predictor = dlib.shape_predictor(predictor_path)\n",
    "#         shape_list = []\n",
    "#         landmark = []\n",
    "#         for index, face in enumerate(dets):\n",
    "#             shape = predictor(self.img, face)  # 寻找人脸的68个标定点\n",
    "#             # 遍历所有点，打印出其坐标，并用绿色的圈表示出来\n",
    "#             for _, pt in enumerate(shape.parts()):\n",
    "#                 pt_pos = (pt.x, pt.y)\n",
    "#                 landmark.append(pt_pos)\n",
    "#                 cv.circle(self.img, pt_pos, 1, (0, 255, 0), 1)\n",
    "#             shape_list.append(shape)\n",
    "#         landmark = np.array(landmark)\n",
    "#         new_img = self.img[landmark[:, 0], landmark[:, 1]]\n",
    "#         new_img = np.array(new_img)\n",
    "#         return new_img\n",
    "        \n",
    "        "
   ]
  },
  {
   "cell_type": "code",
   "execution_count": 8,
   "id": "35c413c6",
   "metadata": {
    "execution": {
     "iopub.execute_input": "2023-08-15T01:54:39.409498Z",
     "iopub.status.busy": "2023-08-15T01:54:39.408699Z",
     "iopub.status.idle": "2023-08-15T01:54:39.414252Z",
     "shell.execute_reply": "2023-08-15T01:54:39.413400Z"
    },
    "papermill": {
     "duration": 0.021351,
     "end_time": "2023-08-15T01:54:39.416770",
     "exception": false,
     "start_time": "2023-08-15T01:54:39.395419",
     "status": "completed"
    },
    "tags": []
   },
   "outputs": [],
   "source": [
    "maxInt = sys.maxsize\n",
    "decrement = True\n",
    " \n",
    "while decrement:\n",
    "    # decrease the maxInt value by factor 10\n",
    "    # as long as the OverflowError occurs.\n",
    " \n",
    "    decrement = False\n",
    "    try:\n",
    "        csv.field_size_limit(maxInt)\n",
    "    except OverflowError:\n",
    "        maxInt = int(maxInt / 10)\n",
    "        decrement = True"
   ]
  },
  {
   "cell_type": "code",
   "execution_count": 9,
   "id": "6bffd392",
   "metadata": {
    "execution": {
     "iopub.execute_input": "2023-08-15T01:54:39.442694Z",
     "iopub.status.busy": "2023-08-15T01:54:39.441931Z",
     "iopub.status.idle": "2023-08-15T01:54:39.448606Z",
     "shell.execute_reply": "2023-08-15T01:54:39.447433Z"
    },
    "papermill": {
     "duration": 0.022539,
     "end_time": "2023-08-15T01:54:39.451240",
     "exception": false,
     "start_time": "2023-08-15T01:54:39.428701",
     "status": "completed"
    },
    "tags": []
   },
   "outputs": [],
   "source": [
    "def resize_picture(image):\n",
    "    crop_left = 0  # Start x-coordinate for cropping\n",
    "    crop_top = 0   # Start y-coordinate for cropping\n",
    "    crop_width = 224  # Width of the crop\n",
    "    crop_height = 224 # Height of the crop\n",
    "\n",
    "# Crop the image\n",
    "    cropped_image = image[crop_top:crop_top + crop_height, crop_left:crop_left + crop_width]\n",
    "\n",
    "# Resize the cropped image to (256, 256)\n",
    "    resized_image = cv2.resize(cropped_image, (256, 256), interpolation=cv2.INTER_LINEAR)\n",
    "    return resized_image"
   ]
  },
  {
   "cell_type": "code",
   "execution_count": 10,
   "id": "73b27460",
   "metadata": {
    "execution": {
     "iopub.execute_input": "2023-08-15T01:54:39.476886Z",
     "iopub.status.busy": "2023-08-15T01:54:39.476458Z",
     "iopub.status.idle": "2023-08-15T01:54:39.949231Z",
     "shell.execute_reply": "2023-08-15T01:54:39.948169Z"
    },
    "papermill": {
     "duration": 0.488494,
     "end_time": "2023-08-15T01:54:39.951501",
     "exception": false,
     "start_time": "2023-08-15T01:54:39.463007",
     "status": "completed"
    },
    "tags": []
   },
   "outputs": [
    {
     "data": {
      "text/plain": [
       "<matplotlib.image.AxesImage at 0x7b7bdc13a590>"
      ]
     },
     "execution_count": 10,
     "metadata": {},
     "output_type": "execute_result"
    },
    {
     "data": {
      "image/png": "[encoded data removed]",
      "text/plain": [
       "<Figure size 640x480 with 1 Axes>"
      ]
     },
     "metadata": {},
     "output_type": "display_data"
    }
   ],
   "source": [
    "image = cv2.imread('/kaggle/input/affectnet/train_set/train_set/images/0.jpg', cv2.IMREAD_GRAYSCALE)\n",
    "image = resize_picture(image)\n",
    "plt.imshow(image)"
   ]
  },
  {
   "cell_type": "code",
   "execution_count": 11,
   "id": "85bbb88f",
   "metadata": {
    "execution": {
     "iopub.execute_input": "2023-08-15T01:54:39.982357Z",
     "iopub.status.busy": "2023-08-15T01:54:39.981901Z",
     "iopub.status.idle": "2023-08-15T01:54:40.012746Z",
     "shell.execute_reply": "2023-08-15T01:54:40.011723Z"
    },
    "papermill": {
     "duration": 0.049665,
     "end_time": "2023-08-15T01:54:40.015472",
     "exception": false,
     "start_time": "2023-08-15T01:54:39.965807",
     "status": "completed"
    },
    "tags": []
   },
   "outputs": [],
   "source": [
    "import torch\n",
    "import numpy as np\n",
    "import cv2\n",
    "import math\n",
    "\n",
    "class Hog_descriptor():\n",
    "    def __init__(self, img, cell_size=16, bin_size=8):\n",
    "        self.img = img\n",
    "        self.img = np.sqrt(img / float(np.max(img)))\n",
    "        self.img = self.img * 255\n",
    "        self.cell_size = cell_size\n",
    "        self.bin_size = bin_size\n",
    "        self.angle_unit = 360 // self.bin_size\n",
    "        assert type(self.bin_size) == int, \"bin_size should be integer,\"\n",
    "        assert type(self.cell_size) == int, \"cell_size should be integer,\"\n",
    "        assert type(self.angle_unit) == int, \"bin_size should be divisible by 360\"\n",
    "\n",
    "    def extract(self):\n",
    "        height, width = self.img.shape\n",
    "        gradient_magnitude, gradient_angle = self.global_gradient()\n",
    "        gradient_magnitude = abs(gradient_magnitude)\n",
    "        cell_gradient_vector = np.zeros((height // self.cell_size, width // self.cell_size, self.bin_size))\n",
    "        for i in range(cell_gradient_vector.shape[0]):\n",
    "            for j in range(cell_gradient_vector.shape[1]):\n",
    "                cell_magnitude = gradient_magnitude[i * self.cell_size:(i + 1) * self.cell_size,\n",
    "                                 j * self.cell_size:(j + 1) * self.cell_size]\n",
    "                cell_angle = gradient_angle[i * self.cell_size:(i + 1) * self.cell_size,\n",
    "                             j * self.cell_size:(j + 1) * self.cell_size]\n",
    "                cell_gradient_vector[i][j] = self.cell_gradient(cell_magnitude, cell_angle)\n",
    "\n",
    "        hog_image = self.render_gradient(np.zeros([height, width]), cell_gradient_vector)\n",
    "        hog_vector = []\n",
    "        for i in range(cell_gradient_vector.shape[0] - 1):\n",
    "            for j in range(cell_gradient_vector.shape[1] - 1):\n",
    "                block_vector = []\n",
    "                block_vector.extend(cell_gradient_vector[i][j])\n",
    "                block_vector.extend(cell_gradient_vector[i][j + 1])\n",
    "                block_vector.extend(cell_gradient_vector[i + 1][j])\n",
    "                block_vector.extend(cell_gradient_vector[i + 1][j + 1])\n",
    "                mag = lambda vector: math.sqrt(sum(i ** 2 for i in vector))\n",
    "                magnitude = mag(block_vector)\n",
    "                if magnitude != 0:\n",
    "                    normalize = lambda block_vector, magnitude: [element / magnitude for element in block_vector]\n",
    "                    block_vector = normalize(block_vector, magnitude)\n",
    "                hog_vector.append(block_vector)\n",
    "        return hog_vector, hog_image\n",
    "\n",
    "    def global_gradient(self):\n",
    "        gradient_values_x = cv2.Sobel(self.img, cv2.CV_64F, 1, 0, ksize=5)\n",
    "        gradient_values_y = cv2.Sobel(self.img, cv2.CV_64F, 0, 1, ksize=5)\n",
    "        gradient_magnitude = cv2.addWeighted(gradient_values_x, 0.5, gradient_values_y, 0.5, 0)\n",
    "        gradient_angle = cv2.phase(gradient_values_x, gradient_values_y, angleInDegrees=True)\n",
    "        return gradient_magnitude, gradient_angle\n",
    "\n",
    "    def cell_gradient(self, cell_magnitude, cell_angle):\n",
    "        orientation_centers = [0] * self.bin_size\n",
    "        for i in range(cell_magnitude.shape[0]):\n",
    "            for j in range(cell_magnitude.shape[1]):\n",
    "                gradient_strength = cell_magnitude[i][j]\n",
    "                gradient_angle = cell_angle[i][j]\n",
    "                min_angle, max_angle, mod = self.get_closest_bins(gradient_angle)\n",
    "                orientation_centers[min_angle] += (gradient_strength * (1 - (mod / self.angle_unit)))\n",
    "                orientation_centers[max_angle] += (gradient_strength * (mod / self.angle_unit))\n",
    "        return orientation_centers\n",
    "\n",
    "    def get_closest_bins(self, gradient_angle):\n",
    "        idx = int(gradient_angle / self.angle_unit)\n",
    "        mod = gradient_angle % self.angle_unit\n",
    "        if idx == self.bin_size:\n",
    "            return idx - 1, (idx) % self.bin_size, mod\n",
    "        return idx, (idx + 1) % self.bin_size, mod\n",
    "\n",
    "    def render_gradient(self, image, cell_gradient):\n",
    "        cell_width = self.cell_size / 2\n",
    "        max_mag = np.array(cell_gradient).max()\n",
    "        for x in range(cell_gradient.shape[0]):\n",
    "            for y in range(cell_gradient.shape[1]):\n",
    "                cell_grad = cell_gradient[x][y]\n",
    "                cell_grad /= max_mag\n",
    "                angle = 0\n",
    "                angle_gap = self.angle_unit\n",
    "                for magnitude in cell_grad:\n",
    "                    angle_radian = math.radians(angle)\n",
    "                    x1 = int(x * self.cell_size + magnitude * cell_width * math.cos(angle_radian))\n",
    "                    y1 = int(y * self.cell_size + magnitude * cell_width * math.sin(angle_radian))\n",
    "                    x2 = int(x * self.cell_size - magnitude * cell_width * math.cos(angle_radian))\n",
    "                    y2 = int(y * self.cell_size - magnitude * cell_width * math.sin(angle_radian))\n",
    "                    cv2.line(image, (y1, x1), (y2, x2), int(255 * math.sqrt(magnitude)))\n",
    "                    angle += angle_gap\n",
    "        return image"
   ]
  },
  {
   "cell_type": "code",
   "execution_count": 12,
   "id": "ca0718fa",
   "metadata": {
    "execution": {
     "iopub.execute_input": "2023-08-15T01:54:40.047612Z",
     "iopub.status.busy": "2023-08-15T01:54:40.047234Z",
     "iopub.status.idle": "2023-08-15T01:54:40.735710Z",
     "shell.execute_reply": "2023-08-15T01:54:40.734486Z"
    },
    "papermill": {
     "duration": 0.707256,
     "end_time": "2023-08-15T01:54:40.738384",
     "exception": false,
     "start_time": "2023-08-15T01:54:40.031128",
     "status": "completed"
    },
    "tags": []
   },
   "outputs": [
    {
     "data": {
      "text/plain": [
       "<matplotlib.image.AxesImage at 0x7b7bdc125c30>"
      ]
     },
     "execution_count": 12,
     "metadata": {},
     "output_type": "execute_result"
    },
    {
     "data": {
      "image/png": "[encoded data removed]",
      "text/plain": [
       "<Figure size 640x480 with 1 Axes>"
      ]
     },
     "metadata": {},
     "output_type": "display_data"
    }
   ],
   "source": [
    "img = cv2.imread('/kaggle/input/affectnet/train_set/train_set/images/10.jpg', cv2.IMREAD_GRAYSCALE)\n",
    "img = resize_picture(img)\n",
    "hog = Hog_descriptor(img, cell_size=8, bin_size=8)\n",
    "vector, image = hog.extract()\n",
    "cv.imwrite(os.path.join('/kaggle/working/', 'hogpic.jpg'), image)\n",
    "plt.imshow(image, cmap=plt.cm.gray)"
   ]
  },
  {
   "cell_type": "code",
   "execution_count": 13,
   "id": "a571b636",
   "metadata": {
    "execution": {
     "iopub.execute_input": "2023-08-15T01:54:40.776187Z",
     "iopub.status.busy": "2023-08-15T01:54:40.775727Z",
     "iopub.status.idle": "2023-08-15T01:54:40.781758Z",
     "shell.execute_reply": "2023-08-15T01:54:40.780853Z"
    },
    "papermill": {
     "duration": 0.030335,
     "end_time": "2023-08-15T01:54:40.784948",
     "exception": false,
     "start_time": "2023-08-15T01:54:40.754613",
     "status": "completed"
    },
    "tags": []
   },
   "outputs": [],
   "source": [
    "# print(cv2.cuda.getCudaEnabledDeviceCount())"
   ]
  },
  {
   "cell_type": "code",
   "execution_count": 14,
   "id": "bf158093",
   "metadata": {
    "execution": {
     "iopub.execute_input": "2023-08-15T01:54:40.828808Z",
     "iopub.status.busy": "2023-08-15T01:54:40.827985Z",
     "iopub.status.idle": "2023-08-15T01:54:40.857281Z",
     "shell.execute_reply": "2023-08-15T01:54:40.855957Z"
    },
    "papermill": {
     "duration": 0.054461,
     "end_time": "2023-08-15T01:54:40.860336",
     "exception": false,
     "start_time": "2023-08-15T01:54:40.805875",
     "status": "completed"
    },
    "tags": []
   },
   "outputs": [],
   "source": [
    "import torch\n",
    "import torch.nn as nn\n",
    "import torchvision.transforms as transforms\n",
    "from torchvision import datasets\n",
    "\n",
    "class HOGLayer(nn.Module):\n",
    "    def __init__(self, cell_size, block_size, num_bins):\n",
    "        super(HOGLayer, self).__init__()\n",
    "        self.cell_size = cell_size\n",
    "        self.block_size = block_size\n",
    "        self.num_bins = num_bins\n",
    "        device = torch.device(\"cuda\" if torch.cuda.is_available() else \"cpu\")\n",
    "        self.device = device\n",
    "        self.sobel_filter_x = torch.tensor([[-1, 0, 1], [-2, 0, 2], [-1, 0, 1]], dtype=torch.float32, device = device)\n",
    "        self.sobel_filter_y = torch.tensor([[-1, -2, -1], [0, 0, 0], [1, 2, 1]], dtype=torch.float32, device = device)\n",
    "\n",
    "    def forward(self, x):\n",
    "        batch_size, height, width = x.size()\n",
    "        x = x.float()\n",
    "        # Calculate gradients using Sobel filters\n",
    "        gradients_x = F.conv2d(x, self.sobel_filter_x.unsqueeze(0).unsqueeze(0))\n",
    "        gradients_y = F.conv2d(x, self.sobel_filter_y.unsqueeze(0).unsqueeze(0))\n",
    "\n",
    "        # Calculate gradient magnitudes and angles\n",
    "        gradient_magnitudes = torch.sqrt(gradients_x ** 2 + gradients_y ** 2)\n",
    "        gradient_angles = torch.atan2(gradients_y, gradients_x)\n",
    "\n",
    "        # Calculate HOG features\n",
    "        hog_features = []\n",
    "        for i in range(batch_size):\n",
    "            hog_feature = self.compute_hog_features(gradient_magnitudes[i], gradient_angles[i])\n",
    "            hog_features.append(hog_feature)\n",
    "\n",
    "        hog_features = torch.stack(hog_features)\n",
    "        return hog_features\n",
    "\n",
    "    def compute_hog_features(self, gradient_magnitudes, gradient_angles):\n",
    "        # Compute histograms for cells\n",
    "        num_cells_x = gradient_magnitudes.size(0) // self.cell_size\n",
    "        num_cells_y = gradient_magnitudes.size(1) // self.cell_size\n",
    "        histograms = torch.zeros(num_cells_x, num_cells_y, self.num_bins, device = self.device)\n",
    "#         print('gradient_magnitude', gradient_magnitudes.device)\n",
    "#         print('histograms', histograms.device)\n",
    "\n",
    "        for i in range(num_cells_x):\n",
    "            for j in range(num_cells_y):\n",
    "                cell_magnitudes = gradient_magnitudes[i * self.cell_size:(i + 1) * self.cell_size,\n",
    "                                                      j * self.cell_size:(j + 1) * self.cell_size]\n",
    "                cell_angles = gradient_angles[i * self.cell_size:(i + 1) * self.cell_size,\n",
    "                                              j * self.cell_size:(j + 1) * self.cell_size]\n",
    "                histograms[i, j] = self.compute_cell_histogram(cell_magnitudes, cell_angles)\n",
    "\n",
    "        # Block normalization\n",
    "        hog_features = []\n",
    "        for i in range(num_cells_x - self.block_size + 1):\n",
    "            for j in range(num_cells_y - self.block_size + 1):\n",
    "                block_histograms = histograms[i:i + self.block_size, j:j + self.block_size]\n",
    "                block_histograms = block_histograms.reshape(-1)\n",
    "                block_histograms /= torch.norm(block_histograms) + 1e-5  # L2 normalization\n",
    "                hog_features.append(block_histograms)\n",
    "\n",
    "        return torch.cat(hog_features)\n",
    "\n",
    "    def compute_cell_histogram(self, cell_magnitudes, cell_angles):\n",
    "        histogram = torch.zeros(self.num_bins, device = self.device)\n",
    "#         print(cell_angles.device)\n",
    "\n",
    "        angle_unit = 360 / self.num_bins\n",
    "        for i in range(cell_magnitudes.size(0)):\n",
    "            for j in range(cell_magnitudes.size(1)):\n",
    "                magnitude = cell_magnitudes[i, j]\n",
    "                angle = cell_angles[i, j]\n",
    "                min_angle, max_angle, mod = self.get_closest_bins(angle)\n",
    "                histogram[min_angle] += (magnitude * (1 - (mod / angle_unit)))\n",
    "                histogram[max_angle] += (magnitude * (mod / angle_unit))\n",
    "\n",
    "        return histogram\n",
    "\n",
    "    def get_closest_bins(self, angle):\n",
    "        idx = int(angle / (360 / self.num_bins))\n",
    "        mod = angle % (360 / self.num_bins)\n",
    "        if idx == self.num_bins:\n",
    "            return idx - 1, (idx) % self.num_bins, mod\n",
    "        return idx, (idx + 1) % self.num_bins, mod"
   ]
  },
  {
   "cell_type": "code",
   "execution_count": 15,
   "id": "e3361fd1",
   "metadata": {
    "execution": {
     "iopub.execute_input": "2023-08-15T01:54:40.894077Z",
     "iopub.status.busy": "2023-08-15T01:54:40.893633Z",
     "iopub.status.idle": "2023-08-15T01:54:40.902573Z",
     "shell.execute_reply": "2023-08-15T01:54:40.901270Z"
    },
    "papermill": {
     "duration": 0.028611,
     "end_time": "2023-08-15T01:54:40.905150",
     "exception": false,
     "start_time": "2023-08-15T01:54:40.876539",
     "status": "completed"
    },
    "tags": []
   },
   "outputs": [],
   "source": [
    "def extract_features_byhog(img_path, cell_size=8, block_size=2, num_bins=8):\n",
    "    \n",
    "\n",
    "    device = torch.device(\"cuda\" if torch.cuda.is_available() else \"cpu\")\n",
    "#     print(\"Using device:\", device)\n",
    "\n",
    "# Create the HOG layer\n",
    "    hog_layer = HOGLayer(cell_size, block_size, num_bins)\n",
    "\n",
    "    hog_layer.to(device)\n",
    "# print(hog_layer.device)\n",
    "\n",
    "# Example usage\n",
    "#     transform = transforms.Compose([transforms.Resize((256, 256)), transforms.ToTensor()])\n",
    "# dataset = datasets.ImageFolder(\"/kaggle/input/subtrainset2\", transform=transform)\n",
    "\n",
    "    img = cv2.imread(img_path, cv2.IMREAD_GRAYSCALE)\n",
    "    img = resize_picture(img)\n",
    "    image = torch.tensor(img)\n",
    "\n",
    "# image, _ = dataset[0]  # Get an example image\n",
    "    image = image.unsqueeze(0)  # Add batch dimension\n",
    "\n",
    "# print(image.shape)\n",
    "\n",
    "# image_tensor = data_transform(image).unsqueeze(0)  # Add batch dimension\n",
    "\n",
    "    image = image.to(device)\n",
    "#     print(image.device)\n",
    "\n",
    "    hog_features = hog_layer(image)\n",
    "    \n",
    "    return hog_features.cpu().numpy()\n"
   ]
  },
  {
   "cell_type": "code",
   "execution_count": 16,
   "id": "3ac2d760",
   "metadata": {
    "execution": {
     "iopub.execute_input": "2023-08-15T01:54:40.937870Z",
     "iopub.status.busy": "2023-08-15T01:54:40.937465Z",
     "iopub.status.idle": "2023-08-15T01:54:46.088220Z",
     "shell.execute_reply": "2023-08-15T01:54:46.086736Z"
    },
    "papermill": {
     "duration": 5.170198,
     "end_time": "2023-08-15T01:54:46.090860",
     "exception": false,
     "start_time": "2023-08-15T01:54:40.920662",
     "status": "completed"
    },
    "tags": []
   },
   "outputs": [
    {
     "name": "stdout",
     "output_type": "stream",
     "text": [
      "HOG Features shape: (1, 28800)\n"
     ]
    }
   ],
   "source": [
    "# Define HOG parameters\n",
    "cell_size = 8\n",
    "block_size = 2\n",
    "num_bins = 8\n",
    "\n",
    "hog_features = extract_features_byhog('/kaggle/input/subtrainset2/images/1.jpg')\n",
    "print(\"HOG Features shape:\", hog_features.shape)"
   ]
  },
  {
   "cell_type": "code",
   "execution_count": 17,
   "id": "33aff30a",
   "metadata": {
    "execution": {
     "iopub.execute_input": "2023-08-15T01:54:46.124547Z",
     "iopub.status.busy": "2023-08-15T01:54:46.124146Z",
     "iopub.status.idle": "2023-08-15T01:54:46.128474Z",
     "shell.execute_reply": "2023-08-15T01:54:46.127558Z"
    },
    "papermill": {
     "duration": 0.02393,
     "end_time": "2023-08-15T01:54:46.130696",
     "exception": false,
     "start_time": "2023-08-15T01:54:46.106766",
     "status": "completed"
    },
    "tags": []
   },
   "outputs": [],
   "source": [
    "# scaler = StandardScaler()\n",
    "# X_scaled = scaler.fit_transform(vector)\n",
    "\n",
    "# # Calculate the required number of principal components to retain the desired variance\n",
    "# desired_variance_ratio = 0.9  # Choose the desired amount of variance to retain\n",
    "# pca = PCA(n_components=desired_variance_ratio)\n",
    "# X_pca = pca.fit_transform(X_scaled)\n",
    "# X_pca.shape\n"
   ]
  },
  {
   "cell_type": "code",
   "execution_count": 18,
   "id": "26963735",
   "metadata": {
    "execution": {
     "iopub.execute_input": "2023-08-15T01:54:46.164513Z",
     "iopub.status.busy": "2023-08-15T01:54:46.163619Z",
     "iopub.status.idle": "2023-08-15T01:54:46.168695Z",
     "shell.execute_reply": "2023-08-15T01:54:46.167462Z"
    },
    "papermill": {
     "duration": 0.024768,
     "end_time": "2023-08-15T01:54:46.171218",
     "exception": false,
     "start_time": "2023-08-15T01:54:46.146450",
     "status": "completed"
    },
    "tags": []
   },
   "outputs": [],
   "source": [
    "# class CustomImageDataset(Dataset):\n",
    "#     def __init__(self, data_dir, transform=None, test=False):\n",
    "#         self.data_dir = data_dir\n",
    "#         self.image_files = [f for f in os.listdir(data_dir) if f.endswith('.jpg') or f.endswith('.png')]\n",
    "#         self.transform = transform\n",
    "\n",
    "#     def __len__(self):\n",
    "#         return len(self.image_files)\n",
    "\n",
    "#     def __getitem__(self, idx):\n",
    "#         image_path = os.path.join(self.data_dir, self.image_files[idx])\n",
    "#         image = Image.open(image_path).convert('L')  # Convert to grayscale\n",
    "\n",
    "#         if self.transform:\n",
    "#             image = self.transform(image)"
   ]
  },
  {
   "cell_type": "code",
   "execution_count": 19,
   "id": "f0589f62",
   "metadata": {
    "execution": {
     "iopub.execute_input": "2023-08-15T01:54:46.205978Z",
     "iopub.status.busy": "2023-08-15T01:54:46.205513Z",
     "iopub.status.idle": "2023-08-15T01:54:46.215135Z",
     "shell.execute_reply": "2023-08-15T01:54:46.213982Z"
    },
    "papermill": {
     "duration": 0.029656,
     "end_time": "2023-08-15T01:54:46.217706",
     "exception": false,
     "start_time": "2023-08-15T01:54:46.188050",
     "status": "completed"
    },
    "tags": []
   },
   "outputs": [],
   "source": [
    "def create_gabor_filter(kernel_size, sigma, theta, frequency, psi, gamma):\n",
    "    \"\"\"\n",
    "    Create a Gabor filter kernel.\n",
    "\n",
    "    Args:\n",
    "        kernel_size (int): Size of the kernel.\n",
    "        sigma (float): Standard deviation of the Gaussian envelope.\n",
    "        theta (float): Orientation of the Gabor filter in radians.\n",
    "        frequency (float): Frequency of the sinusoidal function.\n",
    "        psi (float): Phase offset.\n",
    "        gamma (float): Aspect ratio.\n",
    "\n",
    "    Returns:\n",
    "        Gabor filter kernel (torch.Tensor).\n",
    "    \"\"\"\n",
    "    half_size = kernel_size // 2\n",
    "    y, x = np.meshgrid(np.arange(-half_size, half_size + 1), np.arange(-half_size, half_size + 1))\n",
    "\n",
    "    x_theta = x * np.cos(theta) + y * np.sin(theta)\n",
    "    y_theta = -x * np.sin(theta) + y * np.cos(theta)\n",
    "\n",
    "    gabor = np.exp(-(x_theta**2 + gamma**2 * y_theta**2) / (2 * sigma**2)) * np.cos(2 * np.pi * frequency * x_theta + psi)\n",
    "\n",
    "    gabor_tensor = torch.tensor(gabor, dtype=torch.float32)\n",
    "    return gabor_tensor / torch.sum(gabor_tensor)  # Normalize the kernel\n"
   ]
  },
  {
   "cell_type": "code",
   "execution_count": 20,
   "id": "7d6fe871",
   "metadata": {
    "execution": {
     "iopub.execute_input": "2023-08-15T01:54:46.251915Z",
     "iopub.status.busy": "2023-08-15T01:54:46.251093Z",
     "iopub.status.idle": "2023-08-15T01:54:46.258729Z",
     "shell.execute_reply": "2023-08-15T01:54:46.257837Z"
    },
    "papermill": {
     "duration": 0.02774,
     "end_time": "2023-08-15T01:54:46.261078",
     "exception": false,
     "start_time": "2023-08-15T01:54:46.233338",
     "status": "completed"
    },
    "tags": []
   },
   "outputs": [],
   "source": [
    "class GaborFilter(nn.Module):\n",
    "    def __init__(self, kernel_size, sigma, theta, frequency, psi, gamma):\n",
    "        super(GaborFilter, self).__init__()\n",
    "        self.kernel = create_gabor_filter(kernel_size, sigma, theta, frequency, psi, gamma)\n",
    "        self.kernel = self.kernel.unsqueeze(0).unsqueeze(0)  # Add batch and channel dimensions\n",
    "\n",
    "    def forward(self, x):\n",
    "        return F.conv2d(x, self.kernel, padding=self.kernel.size(2) // 2)\n"
   ]
  },
  {
   "cell_type": "code",
   "execution_count": 21,
   "id": "930d77f1",
   "metadata": {
    "execution": {
     "iopub.execute_input": "2023-08-15T01:54:46.294359Z",
     "iopub.status.busy": "2023-08-15T01:54:46.293957Z",
     "iopub.status.idle": "2023-08-15T01:54:46.303741Z",
     "shell.execute_reply": "2023-08-15T01:54:46.302529Z"
    },
    "papermill": {
     "duration": 0.02943,
     "end_time": "2023-08-15T01:54:46.306067",
     "exception": false,
     "start_time": "2023-08-15T01:54:46.276637",
     "status": "completed"
    },
    "tags": []
   },
   "outputs": [],
   "source": [
    "def extract_features(image_path, gabor_filter, pca_components=64, cell_size=(8, 8), block_size=(2, 2)):\n",
    "#     image = Image.open(image_path).convert('L')  # Convert to grayscale\n",
    "    image = cv.imread(image_path, cv2.IMREAD_GRAYSCALE)\n",
    "    image = preprocess.gray_norm(image)\n",
    "    image = preprocess.adaptive_histogram_equalization(image)\n",
    "    data_transform = transforms.Compose([\n",
    "#         transforms.Resize((256, 256)),  # Resize the image to a fixed size\n",
    "        transforms.ToTensor(),          # Convert PIL image to PyTorch tensor\n",
    "    ])\n",
    "    image_tensor = data_transform(image).unsqueeze(0)  # Add batch dimension\n",
    "    device = torch.device(\"cuda\" if torch.cuda.is_available() else \"cpu\")\n",
    "#     print(\"Using device:\", device)\n",
    "    image_tensor.to(device)\n",
    "\n",
    "    # Apply Gabor filters\n",
    "#     gabor_filter = GaborFilter(kernel_size=15, sigma=2, theta=np.pi/4, frequency=0.2, psi=0, gamma=1)\n",
    "    gabor_filter.to(device)  # Move Gabor filter model to GPU\n",
    "    \n",
    "    gabor_features = gabor_filter(image_tensor)\n",
    "\n",
    "    # Convert Gabor features to numpy array\n",
    "    gabor_features = gabor_features.squeeze().detach().numpy()\n",
    "#     gabor_features = gabor_features.reshape(1, -1)\n",
    "\n",
    "    # Apply HOG\n",
    "#     hog_features, _ = hog(gabor_features, pixels_per_cell=cell_size, cells_per_block=block_size, visualize=True)\n",
    "\n",
    "    # Apply PCA for dimensionality reduction\n",
    "#     pca = PCA(n_components=pca_components)\n",
    "    hog_features = StandardScaler().fit_transform(gabor_features)\n",
    "#     hog_features = pca.fit_transform(hog_features)\n",
    "\n",
    "    return hog_features"
   ]
  },
  {
   "cell_type": "code",
   "execution_count": 22,
   "id": "b3f6bd95",
   "metadata": {
    "execution": {
     "iopub.execute_input": "2023-08-15T01:54:46.339026Z",
     "iopub.status.busy": "2023-08-15T01:54:46.338587Z",
     "iopub.status.idle": "2023-08-15T01:54:46.347807Z",
     "shell.execute_reply": "2023-08-15T01:54:46.346529Z"
    },
    "papermill": {
     "duration": 0.028719,
     "end_time": "2023-08-15T01:54:46.350255",
     "exception": false,
     "start_time": "2023-08-15T01:54:46.321536",
     "status": "completed"
    },
    "tags": []
   },
   "outputs": [],
   "source": [
    "def extract_features_forcsv(image, gabor_filter, pca_components=64, cell_size=(8, 8), block_size=(2, 2)):\n",
    "#     image = Image.open(image_path).convert('L')  # Convert to grayscale\n",
    "    image = preprocess.gray_norm(image)\n",
    "    image = preprocess.adaptive_histogram_equalization(image)\n",
    "    data_transform = transforms.Compose([\n",
    "#         transforms.Resize((256, 256)),  # Resize the image to a fixed size\n",
    "        transforms.ToTensor(),          # Convert PIL image to PyTorch tensor\n",
    "    ])\n",
    "    image_tensor = data_transform(image).unsqueeze(0)  # Add batch dimension\n",
    "    device = torch.device(\"cuda\" if torch.cuda.is_available() else \"cpu\")\n",
    "#     print(\"Using device:\", device)\n",
    "    image_tensor.to(device)\n",
    "\n",
    "    # Apply Gabor filters\n",
    "#     gabor_filter = GaborFilter(kernel_size=15, sigma=2, theta=np.pi/4, frequency=0.2, psi=0, gamma=1)\n",
    "    gabor_filter.to(device)  # Move Gabor filter model to GPU\n",
    "    \n",
    "    gabor_features = gabor_filter(image_tensor)\n",
    "\n",
    "    # Convert Gabor features to numpy array\n",
    "    gabor_features = gabor_features.squeeze().detach().numpy()\n",
    "#     gabor_features = gabor_features.reshape(-1, 1)\n",
    "\n",
    "    # Apply HOG\n",
    "#     hog_features, _ = hog(gabor_features, pixels_per_cell=cell_size, cells_per_block=block_size, visualize=True)\n",
    "\n",
    "    # Apply PCA for dimensionality reduction\n",
    "#     pca = PCA(n_components=pca_components)\n",
    "    hog_features = StandardScaler().fit_transform(gabor_features)\n",
    "#     hog_features = pca.fit_transform(hog_features)\n",
    "\n",
    "    return hog_features"
   ]
  },
  {
   "cell_type": "code",
   "execution_count": 23,
   "id": "672d60a0",
   "metadata": {
    "execution": {
     "iopub.execute_input": "2023-08-15T01:54:46.383429Z",
     "iopub.status.busy": "2023-08-15T01:54:46.382989Z",
     "iopub.status.idle": "2023-08-15T01:54:46.389889Z",
     "shell.execute_reply": "2023-08-15T01:54:46.388691Z"
    },
    "papermill": {
     "duration": 0.026739,
     "end_time": "2023-08-15T01:54:46.392588",
     "exception": false,
     "start_time": "2023-08-15T01:54:46.365849",
     "status": "completed"
    },
    "tags": []
   },
   "outputs": [],
   "source": [
    "output_folder = '/kaggle/working/val_set'\n",
    "os.makedirs(output_folder, exist_ok=True)\n",
    "\n",
    "output_folder = '/kaggle/working/subtrain_set'\n",
    "os.makedirs(output_folder, exist_ok=True)\n"
   ]
  },
  {
   "cell_type": "code",
   "execution_count": 24,
   "id": "e06901c3",
   "metadata": {
    "execution": {
     "iopub.execute_input": "2023-08-15T01:54:46.426137Z",
     "iopub.status.busy": "2023-08-15T01:54:46.425726Z",
     "iopub.status.idle": "2023-08-15T01:54:46.431532Z",
     "shell.execute_reply": "2023-08-15T01:54:46.430482Z"
    },
    "papermill": {
     "duration": 0.025745,
     "end_time": "2023-08-15T01:54:46.434118",
     "exception": false,
     "start_time": "2023-08-15T01:54:46.408373",
     "status": "completed"
    },
    "tags": []
   },
   "outputs": [],
   "source": [
    "# data_dir = '/kaggle/input/affectnet/val_set/val_set/images'\n",
    "# image_files = [f for f in os.listdir(data_dir) if f.endswith('.jpg') or f.endswith('.png')]\n",
    "\n",
    "# gabor_filter = GaborFilter(kernel_size=15, sigma=2, theta=np.pi/4, frequency=0.2, psi=0, gamma=1)\n",
    "\n",
    "# for image_file in image_files:\n",
    "#     image_path = os.path.join(data_dir, image_file)\n",
    "#     features = extract_features(image_path, gabor_filter)\n",
    "#     print(f\"Extracted features for {image_file}: {features.shape}\")\n",
    "    \n",
    "#     output_file = os.path.join(output_dir, f\"features_{i+1}.csv\")\n",
    "#     with open(output_file, 'w', newline='') as csvfile:\n",
    "#         csvwriter = csv.writer(csvfile)\n",
    "#         csvwriter.writerow(features)"
   ]
  },
  {
   "cell_type": "code",
   "execution_count": 25,
   "id": "314af3cc",
   "metadata": {
    "execution": {
     "iopub.execute_input": "2023-08-15T01:54:46.468278Z",
     "iopub.status.busy": "2023-08-15T01:54:46.467830Z",
     "iopub.status.idle": "2023-08-15T01:54:46.482330Z",
     "shell.execute_reply": "2023-08-15T01:54:46.481241Z"
    },
    "papermill": {
     "duration": 0.034506,
     "end_time": "2023-08-15T01:54:46.484779",
     "exception": false,
     "start_time": "2023-08-15T01:54:46.450273",
     "status": "completed"
    },
    "tags": []
   },
   "outputs": [],
   "source": [
    "def load_images_from_directory(directory, index):\n",
    "#     np.set_printoptions(threshold=sys.maxsize)\n",
    "    images = []\n",
    "    labels = []\n",
    "    indexes = []\n",
    "    nums = [0, 0, 0, 0, 0, 0, 0, 0, 0, 0, 0]\n",
    "    annotation_directory = os.path.join(directory, 'annotations'+str(index))\n",
    "    image_directory = os.path.join(directory, 'images'+str(index))\n",
    "    image_list = os.listdir(image_directory)\n",
    "#     gabor_filter = GaborFilter(kernel_size=5, sigma=2, theta=np.pi/4, frequency=0.2, psi=0, gamma=1)\n",
    "    # for filename in os.listdir(image_directory):\n",
    "    for i in tqdm(range(len(image_list))):\n",
    "        if image_list[i].endswith('.jpg') or image_list[i].endswith('.png') or image_list[i].endswith('.jpeg'):\n",
    "            img_path = os.path.join(image_directory, image_list[i])\n",
    "            img = cv2.imread(img_path, cv2.IMREAD_GRAYSCALE)\n",
    "#             lnd = LandMark(img)\n",
    "#             img = resize_picture(img)\n",
    "#             hog = Hog_descriptor(img, cell_size=8, bin_size=8)\n",
    "#             features = extract_features_byhog(img_path)\n",
    "#             features = hog.extract().flatten()\n",
    "            index = image_list[i].split('.')[0]\n",
    "            exp_file = os.path.join(annotation_directory, index + '_exp.npy')\n",
    "            exp = np.load(exp_file).astype('int')\n",
    "            lnd_file = os.path.join(annotation_directory, index + '_lnd.npy')\n",
    "            lnd = np.load(lnd_file)\n",
    "            maxs = np.round(lnd).astype('int')\n",
    "            maxs = np.clip(maxs, 0, 223)\n",
    "            maxs = maxs.reshape(-1, 2)\n",
    "            features = img[maxs[:, 0], maxs[:, 1]]\n",
    "            nums[exp] += 1\n",
    "            index = int(index)\n",
    "            images.append(features)\n",
    "            labels.append(exp)\n",
    "            indexes.append(index)\n",
    "    images = np.array(images)\n",
    "    labels = np.array(labels)\n",
    "    indexes = np.array(indexes)\n",
    "    \n",
    "    return images, labels, indexes\n",
    "#             output_file = os.path.join(output_folder, index+'.csv')\n",
    "#             with open(output_file, 'w', newline='') as csvfile:\n",
    "#                 fieldnames = ['name', 'image', 'label']\n",
    "#                 writer = csv.DictWriter(csvfile, fieldnames=fieldnames)\n",
    "#                 writer.writeheader()\n",
    "#                 flattened_img = features.flatten()\n",
    "#                 writer.writerow({'name': index, 'image': flattened_img, 'label': exp})\n"
   ]
  },
  {
   "cell_type": "code",
   "execution_count": 26,
   "id": "25d98fab",
   "metadata": {
    "execution": {
     "iopub.execute_input": "2023-08-15T01:54:46.518242Z",
     "iopub.status.busy": "2023-08-15T01:54:46.517829Z",
     "iopub.status.idle": "2023-08-15T01:54:46.533031Z",
     "shell.execute_reply": "2023-08-15T01:54:46.531777Z"
    },
    "papermill": {
     "duration": 0.035291,
     "end_time": "2023-08-15T01:54:46.535824",
     "exception": false,
     "start_time": "2023-08-15T01:54:46.500533",
     "status": "completed"
    },
    "tags": []
   },
   "outputs": [],
   "source": [
    "def load_images_from_directory_forcsv(directory, output_folder):\n",
    "    np.set_printoptions(threshold=sys.maxsize)\n",
    "    images = []\n",
    "    labels = []\n",
    "    indexes = []\n",
    "    nums = [0, 0, 0, 0, 0, 0, 0, 0, 0, 0, 0]\n",
    "    expressions = ['Neutral', 'Happiness', 'Sadness', 'Surprise', 'Fear', 'Disgust', 'Anger', 'Contempt',\n",
    "                            'None', 'Uncertain', 'No-face']\n",
    "    for i in tqdm(range(len(expressions))):\n",
    "        if expressions[i] == 'None' or expressions[i] == 'No-face':\n",
    "            continue\n",
    "        expression_folder = os.path.join(directory, expressions[i])\n",
    "#     annotation_directory = os.path.join(directory, 'annotations')\n",
    "#     image_directory = os.path.join(directory, 'images')\n",
    "        image_list = os.listdir(expression_folder)\n",
    "        nums[i] = len(image_list)\n",
    "        gabor_filter = GaborFilter(kernel_size=5, sigma=2, theta=np.pi/4, frequency=0.2, psi=0, gamma=1)\n",
    "    # for filename in os.listdir(image_directory):\n",
    "        for i in tqdm(range(len(image_list))):\n",
    "            file_name = os.path.join(expression_folder, image_list[i])\n",
    "            with open(file_name, 'r') as csv_file:\n",
    "                reader = csv.DictReader(csvfile)\n",
    "                for row in reader:\n",
    "                    name = row['name']\n",
    "                    index = int(name)\n",
    "                    x_list = row['image'][1:-1].split()\n",
    "                    flattened_image = [int(x) for x in x_list]\n",
    "                    img = np.array(flattened_image).reshape(224, 224).astype('uint8')\n",
    "                    features = extract_features_forcsv(img, gabor_filter, pca_components=120).flatten()\n",
    "                    label = row['label']\n",
    "                    label = int(label)\n",
    "                    images.append(features.faltten())\n",
    "                    labels.appendapp(label)\n",
    "                    index.append(name)\n",
    "                    \n",
    "    images = np.array(images)\n",
    "    labels = np.array(labels)\n",
    "    indexes = np.array(indexes)\n",
    "    \n",
    "    return images, labels, indexes\n",
    "                    \n",
    "#                 output_file = os.path.join(output_folder, index+'.csv')\n",
    "#                 with open(output_file, 'w', newline='') as csvfile:\n",
    "#                     fieldnames = ['name', 'image', 'label']\n",
    "#                     writer = csv.DictWriter(csvfile, fieldnames=fieldnames)\n",
    "#                     writer.writeheader()\n",
    "#                     flattened_img = features.flatten()\n",
    "#                     writer.writerow({'name': index, 'image': flattened_img, 'label': exp})"
   ]
  },
  {
   "cell_type": "code",
   "execution_count": 27,
   "id": "2b8da9ed",
   "metadata": {
    "execution": {
     "iopub.execute_input": "2023-08-15T01:54:46.570015Z",
     "iopub.status.busy": "2023-08-15T01:54:46.569555Z",
     "iopub.status.idle": "2023-08-15T01:54:46.575002Z",
     "shell.execute_reply": "2023-08-15T01:54:46.573788Z"
    },
    "papermill": {
     "duration": 0.025839,
     "end_time": "2023-08-15T01:54:46.577481",
     "exception": false,
     "start_time": "2023-08-15T01:54:46.551642",
     "status": "completed"
    },
    "tags": []
   },
   "outputs": [],
   "source": [
    "# images, labels, names = load_images_from_directory('/kaggle/input/subtrainset7', 0)\n",
    "# load_images_from_directory_forcsv('/kaggle/input/subtrainset', '/kaggle/working/subtrain_set')\n",
    "\n",
    "\n",
    "# desired_variance_ratio = 0.95\n",
    "# pca = PCA(n_components=desired_variance_ratio)\n",
    "\n",
    "# hog_features = pca.fit_transform(images)\n"
   ]
  },
  {
   "cell_type": "code",
   "execution_count": 28,
   "id": "dbc40e36",
   "metadata": {
    "execution": {
     "iopub.execute_input": "2023-08-15T01:54:46.611090Z",
     "iopub.status.busy": "2023-08-15T01:54:46.610638Z",
     "iopub.status.idle": "2023-08-15T02:38:57.958169Z",
     "shell.execute_reply": "2023-08-15T02:38:57.955995Z"
    },
    "papermill": {
     "duration": 2651.36755,
     "end_time": "2023-08-15T02:38:57.960825",
     "exception": false,
     "start_time": "2023-08-15T01:54:46.593275",
     "status": "completed"
    },
    "tags": []
   },
   "outputs": [
    {
     "name": "stderr",
     "output_type": "stream",
     "text": [
      "100%|██████████| 3000/3000 [00:48<00:00, 62.25it/s]\n",
      "100%|██████████| 3000/3000 [00:48<00:00, 62.36it/s]\n",
      "100%|██████████| 3000/3000 [00:48<00:00, 62.47it/s]\n",
      "100%|██████████| 3000/3000 [00:48<00:00, 61.26it/s]\n",
      "100%|██████████| 3000/3000 [00:48<00:00, 61.45it/s]\n",
      "100%|██████████| 3000/3000 [00:49<00:00, 60.79it/s]\n",
      "100%|██████████| 3000/3000 [00:48<00:00, 61.48it/s]\n",
      "100%|██████████| 3000/3000 [00:49<00:00, 60.47it/s]\n",
      "100%|██████████| 3000/3000 [00:48<00:00, 61.25it/s]\n",
      "100%|██████████| 3000/3000 [00:50<00:00, 59.70it/s]\n",
      "100%|██████████| 3000/3000 [00:54<00:00, 54.88it/s]\n",
      "100%|██████████| 3000/3000 [00:56<00:00, 53.16it/s]\n",
      "100%|██████████| 3000/3000 [00:53<00:00, 56.18it/s]\n",
      "100%|██████████| 3000/3000 [00:53<00:00, 56.48it/s]\n",
      "100%|██████████| 3000/3000 [01:02<00:00, 48.35it/s]\n",
      "100%|██████████| 3000/3000 [00:54<00:00, 54.71it/s]\n",
      "100%|██████████| 3000/3000 [00:58<00:00, 51.28it/s]\n",
      "100%|██████████| 3000/3000 [00:53<00:00, 55.73it/s]\n",
      "100%|██████████| 3000/3000 [00:54<00:00, 55.06it/s]\n",
      "100%|██████████| 3000/3000 [00:51<00:00, 58.32it/s]\n",
      "100%|██████████| 3000/3000 [00:51<00:00, 58.34it/s]\n",
      "100%|██████████| 3000/3000 [00:53<00:00, 56.03it/s]\n",
      "100%|██████████| 3000/3000 [00:51<00:00, 57.93it/s]\n",
      "100%|██████████| 3000/3000 [00:50<00:00, 59.18it/s]\n",
      "100%|██████████| 3000/3000 [00:50<00:00, 58.93it/s]\n",
      "100%|██████████| 3000/3000 [00:50<00:00, 59.90it/s]\n",
      "100%|██████████| 3000/3000 [00:58<00:00, 51.00it/s]\n",
      "100%|██████████| 3000/3000 [00:49<00:00, 60.42it/s]\n",
      "100%|██████████| 3000/3000 [00:49<00:00, 60.10it/s]\n",
      "100%|██████████| 3000/3000 [00:50<00:00, 59.89it/s]\n",
      "100%|██████████| 3000/3000 [00:49<00:00, 60.15it/s]\n",
      "100%|██████████| 3000/3000 [00:51<00:00, 57.77it/s]\n",
      "100%|██████████| 3000/3000 [00:50<00:00, 58.87it/s]\n",
      "100%|██████████| 3000/3000 [00:49<00:00, 60.41it/s]\n",
      "100%|██████████| 3000/3000 [00:50<00:00, 59.43it/s]\n",
      "100%|██████████| 3000/3000 [00:50<00:00, 58.95it/s]\n",
      "100%|██████████| 3000/3000 [00:53<00:00, 56.40it/s]\n",
      "100%|██████████| 3000/3000 [00:53<00:00, 56.54it/s]\n",
      "100%|██████████| 3000/3000 [00:51<00:00, 58.14it/s]\n",
      "100%|██████████| 3000/3000 [00:51<00:00, 58.44it/s]\n",
      "100%|██████████| 3000/3000 [00:52<00:00, 56.89it/s]\n",
      "100%|██████████| 3000/3000 [00:51<00:00, 58.68it/s]\n",
      "100%|██████████| 3000/3000 [00:52<00:00, 57.49it/s]\n",
      "100%|██████████| 3000/3000 [00:50<00:00, 59.40it/s]\n",
      "100%|██████████| 3000/3000 [00:51<00:00, 58.35it/s]\n",
      "100%|██████████| 3000/3000 [00:50<00:00, 59.51it/s]\n",
      "100%|██████████| 3000/3000 [00:51<00:00, 57.96it/s]\n",
      "100%|██████████| 3000/3000 [00:53<00:00, 56.40it/s]\n",
      "100%|██████████| 3000/3000 [00:53<00:00, 56.02it/s]\n",
      "100%|██████████| 3000/3000 [00:51<00:00, 57.96it/s]\n",
      "100%|██████████| 2652/2652 [00:44<00:00, 59.19it/s]\n"
     ]
    }
   ],
   "source": [
    "import pickle\n",
    "\n",
    "\n",
    "for i in range(51):\n",
    "    images, labels, names = load_images_from_directory('/kaggle/input/subtrainset9', i)\n",
    "\n",
    "    with open(os.path.join('/kaggle/working/subtrain_set', 'subtrain'+str(i)+'.pkl'), 'wb') as f:\n",
    "        pickle.dump(images, f)\n",
    "        pickle.dump(labels, f)"
   ]
  },
  {
   "cell_type": "code",
   "execution_count": 29,
   "id": "2babde60",
   "metadata": {
    "execution": {
     "iopub.execute_input": "2023-08-15T02:39:02.288940Z",
     "iopub.status.busy": "2023-08-15T02:39:02.288493Z",
     "iopub.status.idle": "2023-08-15T02:39:02.293994Z",
     "shell.execute_reply": "2023-08-15T02:39:02.292669Z"
    },
    "papermill": {
     "duration": 2.13593,
     "end_time": "2023-08-15T02:39:02.296583",
     "exception": false,
     "start_time": "2023-08-15T02:39:00.160653",
     "status": "completed"
    },
    "tags": []
   },
   "outputs": [],
   "source": [
    "# images, labels, names = load_images_from_directory('/kaggle/input/affectnet/val_set/val_set')\n",
    "\n",
    "# with open(os.path.join('/kaggle/working/subtrain_set', 'testset.pkl'), 'wb') as f:\n",
    "#     pickle.dump(images, f)\n",
    "#     pickle.dump(labels, f)"
   ]
  },
  {
   "cell_type": "code",
   "execution_count": 30,
   "id": "f788fb1d",
   "metadata": {
    "execution": {
     "iopub.execute_input": "2023-08-15T02:39:06.673427Z",
     "iopub.status.busy": "2023-08-15T02:39:06.673036Z",
     "iopub.status.idle": "2023-08-15T02:39:06.678126Z",
     "shell.execute_reply": "2023-08-15T02:39:06.677096Z"
    },
    "papermill": {
     "duration": 2.192071,
     "end_time": "2023-08-15T02:39:06.681062",
     "exception": false,
     "start_time": "2023-08-15T02:39:04.488991",
     "status": "completed"
    },
    "tags": []
   },
   "outputs": [],
   "source": [
    "# for i in len(labels):\n",
    "#     output_file = os.path.join('/kaggle/working/val_set2', str(names[i])+'.csv')\n",
    "#     with open(output_file, 'w', newline='') as csvfile:\n",
    "#         fieldnames = ['name', 'image', 'label']\n",
    "#         writer = csv.DictWriter(csvfile, fieldnames=fieldnames)\n",
    "#         writer.writeheader()\n",
    "#         flattened_img = hog_features[i].flatten()\n",
    "#         writer.writerow({'name': names[i], 'image': flattened_img, 'label': labels[i]})"
   ]
  },
  {
   "cell_type": "code",
   "execution_count": 31,
   "id": "6201d064",
   "metadata": {
    "execution": {
     "iopub.execute_input": "2023-08-15T02:39:11.092438Z",
     "iopub.status.busy": "2023-08-15T02:39:11.092033Z",
     "iopub.status.idle": "2023-08-15T02:39:11.097080Z",
     "shell.execute_reply": "2023-08-15T02:39:11.095584Z"
    },
    "papermill": {
     "duration": 2.229851,
     "end_time": "2023-08-15T02:39:11.099401",
     "exception": false,
     "start_time": "2023-08-15T02:39:08.869550",
     "status": "completed"
    },
    "tags": []
   },
   "outputs": [],
   "source": [
    "# images2, labels2, names2 = load_images_from_directory_forcsv('/kaggle/input/subtrainset')\n",
    "# # load_images_from_directory_forcsv('/kaggle/input/subtrainset', '/kaggle/working/subtrain_set')\n",
    "\n",
    "# pca = PCA(n_components=6697)\n",
    "\n",
    "# hog_features = pca.fit_transform(images2)\n"
   ]
  },
  {
   "cell_type": "code",
   "execution_count": 32,
   "id": "fed1de73",
   "metadata": {
    "execution": {
     "iopub.execute_input": "2023-08-15T02:39:15.449430Z",
     "iopub.status.busy": "2023-08-15T02:39:15.449011Z",
     "iopub.status.idle": "2023-08-15T02:39:15.453888Z",
     "shell.execute_reply": "2023-08-15T02:39:15.453205Z"
    },
    "papermill": {
     "duration": 2.108043,
     "end_time": "2023-08-15T02:39:15.455904",
     "exception": false,
     "start_time": "2023-08-15T02:39:13.347861",
     "status": "completed"
    },
    "tags": []
   },
   "outputs": [],
   "source": [
    "# for i in len(labels2):\n",
    "#     output_file = os.path.join('/kaggle/working/subtrain_set', str(names[i])+'.csv')\n",
    "#     with open(output_file, 'w', newline='') as csvfile:\n",
    "#         fieldnames = ['name', 'image', 'label']\n",
    "#         writer = csv.DictWriter(csvfile, fieldnames=fieldnames)\n",
    "#         writer.writeheader()\n",
    "#         flattened_img = hog_features2[i].flatten()\n",
    "#         writer.writerow({'name': names2[i], 'image': flattened_img, 'label': labels2[i]})"
   ]
  },
  {
   "cell_type": "code",
   "execution_count": 33,
   "id": "46d27e2d",
   "metadata": {
    "execution": {
     "iopub.execute_input": "2023-08-15T02:39:19.842745Z",
     "iopub.status.busy": "2023-08-15T02:39:19.842366Z",
     "iopub.status.idle": "2023-08-15T02:39:19.847650Z",
     "shell.execute_reply": "2023-08-15T02:39:19.846353Z"
    },
    "papermill": {
     "duration": 2.20487,
     "end_time": "2023-08-15T02:39:19.850177",
     "exception": false,
     "start_time": "2023-08-15T02:39:17.645307",
     "status": "completed"
    },
    "tags": []
   },
   "outputs": [],
   "source": [
    "# gabor_filter = GaborFilter(kernel_size=15, sigma=2, theta=np.pi/4, frequency=0.2, psi=0, gamma=1)\n",
    "# with open('/kaggle/input/subtrainset/Contempt/100012.csv', 'r') as csvfile:\n",
    "#     reader = csv.DictReader(csvfile)\n",
    "#     for row in reader:\n",
    "#         name = row['name']\n",
    "                    \n",
    "#         x_list = row['image'][1:-1].split()\n",
    "#         flattened_image = [int(x) for x in x_list]\n",
    "#         img = np.array(flattened_image).reshape(224, 224).astype('uint8')\n",
    "#         features = extract_features_forcsv(img, gabor_filter, pca_components=120)\n",
    "#         label = row['label']\n",
    "        \n",
    "#         print(features)\n",
    "#         print(name)\n",
    "#         print(label)\n"
   ]
  },
  {
   "cell_type": "code",
   "execution_count": 34,
   "id": "1a5b9f67",
   "metadata": {
    "execution": {
     "iopub.execute_input": "2023-08-15T02:39:24.143355Z",
     "iopub.status.busy": "2023-08-15T02:39:24.142973Z",
     "iopub.status.idle": "2023-08-15T02:39:24.147164Z",
     "shell.execute_reply": "2023-08-15T02:39:24.146007Z"
    },
    "papermill": {
     "duration": 2.101073,
     "end_time": "2023-08-15T02:39:24.149395",
     "exception": false,
     "start_time": "2023-08-15T02:39:22.048322",
     "status": "completed"
    },
    "tags": []
   },
   "outputs": [],
   "source": [
    "# features.shape\n",
    "# plt.imshow(features)"
   ]
  },
  {
   "cell_type": "code",
   "execution_count": 35,
   "id": "e9439d43",
   "metadata": {
    "execution": {
     "iopub.execute_input": "2023-08-15T02:39:28.517403Z",
     "iopub.status.busy": "2023-08-15T02:39:28.516999Z",
     "iopub.status.idle": "2023-08-15T02:39:28.521522Z",
     "shell.execute_reply": "2023-08-15T02:39:28.520401Z"
    },
    "papermill": {
     "duration": 2.194055,
     "end_time": "2023-08-15T02:39:28.524029",
     "exception": false,
     "start_time": "2023-08-15T02:39:26.329974",
     "status": "completed"
    },
    "tags": []
   },
   "outputs": [],
   "source": [
    "# image = cv.imread('/kaggle/input/affectnet/val_set/val_set/images/10.jpg', cv2.IMREAD_GRAYSCALE)\n",
    "# data_transform = transforms.Compose([\n",
    "# #         transforms.Resize((256, 256)),  # Resize the image to a fixed size\n",
    "#         transforms.ToTensor(),          # Convert PIL image to PyTorch tensor\n",
    "#     ])\n",
    "# image = data_transform(image)\n",
    "# image.shape"
   ]
  }
 ],
 "metadata": {
  "kernelspec": {
   "display_name": "Python 3",
   "language": "python",
   "name": "python3"
  },
  "language_info": {
   "codemirror_mode": {
    "name": "ipython",
    "version": 3
   },
   "file_extension": ".py",
   "mimetype": "text/x-python",
   "name": "python",
   "nbconvert_exporter": "python",
   "pygments_lexer": "ipython3",
   "version": "3.10.12"
  },
  "papermill": {
   "default_parameters": {},
   "duration": 2710.407661,
   "end_time": "2023-08-15T02:39:32.338278",
   "environment_variables": {},
   "exception": null,
   "input_path": "__notebook__.ipynb",
   "output_path": "__notebook__.ipynb",
   "parameters": {},
   "start_time": "2023-08-15T01:54:21.930617",
   "version": "2.4.0"
  }
 },
 "nbformat": 4,
 "nbformat_minor": 5
}
