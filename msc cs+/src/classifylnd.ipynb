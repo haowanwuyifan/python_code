{
 "cells": [
  {
   "cell_type": "code",
   "execution_count": 1,
   "id": "12b32a5c",
   "metadata": {
    "execution": {
     "iopub.execute_input": "2023-08-18T09:14:48.920506Z",
     "iopub.status.busy": "2023-08-18T09:14:48.920108Z",
     "iopub.status.idle": "2023-08-18T09:14:50.559177Z",
     "shell.execute_reply": "2023-08-18T09:14:50.557619Z"
    },
    "papermill": {
     "duration": 1.651022,
     "end_time": "2023-08-18T09:14:50.561997",
     "exception": false,
     "start_time": "2023-08-18T09:14:48.910975",
     "status": "completed"
    },
    "tags": []
   },
   "outputs": [
    {
     "name": "stderr",
     "output_type": "stream",
     "text": [
      "/opt/conda/lib/python3.10/site-packages/scipy/__init__.py:146: UserWarning: A NumPy version >=1.16.5 and <1.23.0 is required for this version of SciPy (detected version 1.23.5\n",
      "  warnings.warn(f\"A NumPy version >={np_minversion} and <{np_maxversion}\"\n"
     ]
    }
   ],
   "source": [
    "import numpy as np\n",
    "from sklearn.model_selection import train_test_split, GridSearchCV\n",
    "from sklearn.svm import LinearSVC\n",
    "from sklearn.metrics import accuracy_score\n",
    "from sklearn.datasets import load_digits\n",
    "from sklearn.preprocessing import StandardScaler, MinMaxScaler\n",
    "from sklearn.pipeline import make_pipeline, Pipeline\n",
    "from sklearn.decomposition import PCA\n",
    "from sklearn.model_selection import cross_val_score"
   ]
  },
  {
   "cell_type": "code",
   "execution_count": 2,
   "id": "d7aa236a",
   "metadata": {
    "execution": {
     "iopub.execute_input": "2023-08-18T09:14:50.578502Z",
     "iopub.status.busy": "2023-08-18T09:14:50.577483Z",
     "iopub.status.idle": "2023-08-18T09:14:50.583182Z",
     "shell.execute_reply": "2023-08-18T09:14:50.582206Z"
    },
    "papermill": {
     "duration": 0.016389,
     "end_time": "2023-08-18T09:14:50.585552",
     "exception": false,
     "start_time": "2023-08-18T09:14:50.569163",
     "status": "completed"
    },
    "tags": []
   },
   "outputs": [],
   "source": [
    "%matplotlib inline"
   ]
  },
  {
   "cell_type": "code",
   "execution_count": 3,
   "id": "a62fd756",
   "metadata": {
    "execution": {
     "iopub.execute_input": "2023-08-18T09:14:50.601289Z",
     "iopub.status.busy": "2023-08-18T09:14:50.600537Z",
     "iopub.status.idle": "2023-08-18T09:14:50.606464Z",
     "shell.execute_reply": "2023-08-18T09:14:50.605296Z"
    },
    "papermill": {
     "duration": 0.01634,
     "end_time": "2023-08-18T09:14:50.608726",
     "exception": false,
     "start_time": "2023-08-18T09:14:50.592386",
     "status": "completed"
    },
    "tags": []
   },
   "outputs": [],
   "source": [
    "import pickle\n",
    "import os\n",
    "\n",
    "# trainset = []\n",
    "# valset = []\n",
    "# totledata = []\n",
    "# totlelabel = []\n",
    "# folder = '/kaggle/input/subtrainset8/subtrain_set'\n",
    "# file_path = os.listdir(folder)\n",
    "# print(file_path)\n",
    "# for file in file_path:\n",
    "#     with open(os.path.join(folder, file), 'rb') as f:\n",
    "#         images = pickle.load(f)\n",
    "#         labels = pickle.load(f)\n",
    "# #         print(labels.shape)\n",
    "#     images = np.squeeze(images)\n",
    "#     totledata.append(images)\n",
    "#     totlelabel.append(labels)\n",
    "    \n",
    "# x_train = totledata[1:]\n",
    "# y_train = totlelabel[1:]\n",
    "# x_test = totledata[0]\n",
    "# y_test = totlelabel[0]\n",
    "\n"
   ]
  },
  {
   "cell_type": "code",
   "execution_count": 4,
   "id": "e254bbe5",
   "metadata": {
    "execution": {
     "iopub.execute_input": "2023-08-18T09:14:50.624855Z",
     "iopub.status.busy": "2023-08-18T09:14:50.623704Z",
     "iopub.status.idle": "2023-08-18T09:14:50.628860Z",
     "shell.execute_reply": "2023-08-18T09:14:50.628007Z"
    },
    "papermill": {
     "duration": 0.015588,
     "end_time": "2023-08-18T09:14:50.631107",
     "exception": false,
     "start_time": "2023-08-18T09:14:50.615519",
     "status": "completed"
    },
    "tags": []
   },
   "outputs": [],
   "source": [
    "# x_train = np.concatenate(totledata, axis=0)\n",
    "# y_train = np.concatenate(totlelabel, axis=0)"
   ]
  },
  {
   "cell_type": "code",
   "execution_count": 5,
   "id": "87aa2bbc",
   "metadata": {
    "execution": {
     "iopub.execute_input": "2023-08-18T09:14:50.647204Z",
     "iopub.status.busy": "2023-08-18T09:14:50.646422Z",
     "iopub.status.idle": "2023-08-18T09:14:50.650769Z",
     "shell.execute_reply": "2023-08-18T09:14:50.649910Z"
    },
    "papermill": {
     "duration": 0.014801,
     "end_time": "2023-08-18T09:14:50.652891",
     "exception": false,
     "start_time": "2023-08-18T09:14:50.638090",
     "status": "completed"
    },
    "tags": []
   },
   "outputs": [],
   "source": [
    "# x_train.shape"
   ]
  },
  {
   "cell_type": "code",
   "execution_count": 6,
   "id": "18578161",
   "metadata": {
    "execution": {
     "iopub.execute_input": "2023-08-18T09:14:50.669607Z",
     "iopub.status.busy": "2023-08-18T09:14:50.668448Z",
     "iopub.status.idle": "2023-08-18T09:14:50.673587Z",
     "shell.execute_reply": "2023-08-18T09:14:50.672508Z"
    },
    "papermill": {
     "duration": 0.015837,
     "end_time": "2023-08-18T09:14:50.675878",
     "exception": false,
     "start_time": "2023-08-18T09:14:50.660041",
     "status": "completed"
    },
    "tags": []
   },
   "outputs": [],
   "source": [
    "# with open(os.path.join('/kaggle/working/', 'trainset.pkl'), 'wb') as f:\n",
    "#     pickle.dump(x_train, f)\n",
    "#     pickle.dump(y_train, f)"
   ]
  },
  {
   "cell_type": "code",
   "execution_count": 7,
   "id": "ac7c04ef",
   "metadata": {
    "execution": {
     "iopub.execute_input": "2023-08-18T09:14:50.691987Z",
     "iopub.status.busy": "2023-08-18T09:14:50.691461Z",
     "iopub.status.idle": "2023-08-18T09:14:51.030026Z",
     "shell.execute_reply": "2023-08-18T09:14:51.028836Z"
    },
    "papermill": {
     "duration": 0.349668,
     "end_time": "2023-08-18T09:14:51.032635",
     "exception": false,
     "start_time": "2023-08-18T09:14:50.682967",
     "status": "completed"
    },
    "tags": []
   },
   "outputs": [],
   "source": [
    "with open('/kaggle/input/newdataset3/trainset.pkl', 'rb') as f:\n",
    "    x_train = pickle.load(f)\n",
    "    y_train = pickle.load(f)"
   ]
  },
  {
   "cell_type": "code",
   "execution_count": 8,
   "id": "df644649",
   "metadata": {
    "execution": {
     "iopub.execute_input": "2023-08-18T09:14:51.048720Z",
     "iopub.status.busy": "2023-08-18T09:14:51.048318Z",
     "iopub.status.idle": "2023-08-18T09:14:51.073957Z",
     "shell.execute_reply": "2023-08-18T09:14:51.072786Z"
    },
    "papermill": {
     "duration": 0.036738,
     "end_time": "2023-08-18T09:14:51.076518",
     "exception": false,
     "start_time": "2023-08-18T09:14:51.039780",
     "status": "completed"
    },
    "tags": []
   },
   "outputs": [],
   "source": [
    "with open('/kaggle/input/newdataset3/testset.pkl', 'rb') as f:\n",
    "    x_test = pickle.load(f)\n",
    "    y_test = pickle.load(f)"
   ]
  },
  {
   "cell_type": "code",
   "execution_count": 9,
   "id": "ef5b0825",
   "metadata": {
    "execution": {
     "iopub.execute_input": "2023-08-18T09:14:51.092280Z",
     "iopub.status.busy": "2023-08-18T09:14:51.091873Z",
     "iopub.status.idle": "2023-08-18T09:14:51.097794Z",
     "shell.execute_reply": "2023-08-18T09:14:51.096332Z"
    },
    "papermill": {
     "duration": 0.016563,
     "end_time": "2023-08-18T09:14:51.100100",
     "exception": false,
     "start_time": "2023-08-18T09:14:51.083537",
     "status": "completed"
    },
    "tags": []
   },
   "outputs": [
    {
     "name": "stdout",
     "output_type": "stream",
     "text": [
      "(152652, 68)\n",
      "(3999, 68)\n"
     ]
    }
   ],
   "source": [
    "print(x_train.shape)\n",
    "print(x_test.shape)\n"
   ]
  },
  {
   "cell_type": "code",
   "execution_count": 10,
   "id": "95918f0f",
   "metadata": {
    "execution": {
     "iopub.execute_input": "2023-08-18T09:14:51.117490Z",
     "iopub.status.busy": "2023-08-18T09:14:51.117068Z",
     "iopub.status.idle": "2023-08-18T09:14:51.177893Z",
     "shell.execute_reply": "2023-08-18T09:14:51.176409Z"
    },
    "papermill": {
     "duration": 0.073111,
     "end_time": "2023-08-18T09:14:51.180357",
     "exception": false,
     "start_time": "2023-08-18T09:14:51.107246",
     "status": "completed"
    },
    "tags": []
   },
   "outputs": [
    {
     "name": "stdout",
     "output_type": "stream",
     "text": [
      "[0.62871499 0.35489901 0.9368372  1.36296429 3.02880952 5.02144737\n",
      " 0.9368372  5.15716216]\n"
     ]
    }
   ],
   "source": [
    "from sklearn.utils.class_weight import compute_class_weight\n",
    "class_weight = 'balanced'\n",
    "classes = np.array([0, 1, 2, 3, 4, 5, 6, 7])\n",
    "weight = compute_class_weight(class_weight='balanced', classes=classes, y=y_train)\n",
    "print(weight)"
   ]
  },
  {
   "cell_type": "code",
   "execution_count": 11,
   "id": "d566d435",
   "metadata": {
    "execution": {
     "iopub.execute_input": "2023-08-18T09:14:51.197126Z",
     "iopub.status.busy": "2023-08-18T09:14:51.196105Z",
     "iopub.status.idle": "2023-08-18T09:14:51.203197Z",
     "shell.execute_reply": "2023-08-18T09:14:51.201964Z"
    },
    "papermill": {
     "duration": 0.017922,
     "end_time": "2023-08-18T09:14:51.205598",
     "exception": false,
     "start_time": "2023-08-18T09:14:51.187676",
     "status": "completed"
    },
    "tags": []
   },
   "outputs": [
    {
     "name": "stdout",
     "output_type": "stream",
     "text": [
      "[0.50297199 0.2129394  0.9368372  1.36296429 3.02880952 5.02144737\n",
      " 0.74946976 5.15716216]\n"
     ]
    }
   ],
   "source": [
    "weight[1] = weight[1]*0.6\n",
    "weight[0] = weight[0]*0.8\n",
    "weight[6] = weight[6]*0.8\n",
    "print(weight)"
   ]
  },
  {
   "cell_type": "code",
   "execution_count": 12,
   "id": "27db2e7e",
   "metadata": {
    "execution": {
     "iopub.execute_input": "2023-08-18T09:14:51.222324Z",
     "iopub.status.busy": "2023-08-18T09:14:51.221931Z",
     "iopub.status.idle": "2023-08-18T09:14:51.228224Z",
     "shell.execute_reply": "2023-08-18T09:14:51.227165Z"
    },
    "papermill": {
     "duration": 0.017393,
     "end_time": "2023-08-18T09:14:51.230522",
     "exception": false,
     "start_time": "2023-08-18T09:14:51.213129",
     "status": "completed"
    },
    "tags": []
   },
   "outputs": [
    {
     "name": "stdout",
     "output_type": "stream",
     "text": [
      "{0: 0.5029719934102141, 1: 0.2129394040843656, 2: 0.9368371956009427, 3: 1.3629642857142856, 4: 3.0288095238095236, 5: 5.021447368421053, 6: 0.7494697564807542, 7: 5.157162162162162}\n"
     ]
    }
   ],
   "source": [
    "# class_balance = {0:1, 1:0.7, 2:1, 3:1, 4:1, 5:1, 6:1, 7:1}\n",
    "class_balance = {classes[i]: weight[i] for i in range(len(classes))}\n",
    "print(class_balance)"
   ]
  },
  {
   "cell_type": "code",
   "execution_count": 13,
   "id": "3802a114",
   "metadata": {
    "execution": {
     "iopub.execute_input": "2023-08-18T09:14:51.247303Z",
     "iopub.status.busy": "2023-08-18T09:14:51.246616Z",
     "iopub.status.idle": "2023-08-18T09:14:51.252321Z",
     "shell.execute_reply": "2023-08-18T09:14:51.251237Z"
    },
    "papermill": {
     "duration": 0.01659,
     "end_time": "2023-08-18T09:14:51.254528",
     "exception": false,
     "start_time": "2023-08-18T09:14:51.237938",
     "status": "completed"
    },
    "tags": []
   },
   "outputs": [],
   "source": [
    "pipe = Pipeline([\n",
    "    ('scaler', MinMaxScaler()),\n",
    "    ('svm', LinearSVC(max_iter=20000, class_weight=class_balance))\n",
    "])"
   ]
  },
  {
   "cell_type": "code",
   "execution_count": 14,
   "id": "1808b0f6",
   "metadata": {
    "execution": {
     "iopub.execute_input": "2023-08-18T09:14:51.271739Z",
     "iopub.status.busy": "2023-08-18T09:14:51.271361Z",
     "iopub.status.idle": "2023-08-18T13:30:03.504649Z",
     "shell.execute_reply": "2023-08-18T13:30:03.502880Z"
    },
    "papermill": {
     "duration": 15312.251393,
     "end_time": "2023-08-18T13:30:03.513762",
     "exception": false,
     "start_time": "2023-08-18T09:14:51.262369",
     "status": "completed"
    },
    "tags": []
   },
   "outputs": [
    {
     "name": "stdout",
     "output_type": "stream",
     "text": [
      "Best Parameters: {'svm__C': 1}\n",
      "Best Cross-Validation Score: 0.30373660217856147\n"
     ]
    }
   ],
   "source": [
    "svc = LinearSVC()\n",
    "\n",
    "# Set up parameter grid for GridSearchCV\n",
    "param_grid = {\n",
    "    'svm__C': [0.1, 1]\n",
    "}\n",
    "\n",
    "# Perform grid search with cross-validation\n",
    "grid_search = GridSearchCV(pipe, param_grid, cv=5)\n",
    "grid_search.fit(x_train, y_train)\n",
    "\n",
    "# Get the best parameters and score\n",
    "best_params = grid_search.best_params_\n",
    "best_score = grid_search.best_score_\n",
    "\n",
    "print(\"Best Parameters:\", best_params)\n",
    "print(\"Best Cross-Validation Score:\", best_score)"
   ]
  },
  {
   "cell_type": "code",
   "execution_count": 15,
   "id": "85d29541",
   "metadata": {
    "execution": {
     "iopub.execute_input": "2023-08-18T13:30:03.532068Z",
     "iopub.status.busy": "2023-08-18T13:30:03.531199Z",
     "iopub.status.idle": "2023-08-18T13:30:03.544289Z",
     "shell.execute_reply": "2023-08-18T13:30:03.542665Z"
    },
    "papermill": {
     "duration": 0.028061,
     "end_time": "2023-08-18T13:30:03.549472",
     "exception": false,
     "start_time": "2023-08-18T13:30:03.521411",
     "status": "completed"
    },
    "tags": []
   },
   "outputs": [],
   "source": [
    "# best_svc = LinearSVC(C=best_params['C'], max_iter=10000, class_weight='balanced')\n",
    "\n",
    "# scores = cross_val_score(best_svc, new_train, y_train, cv=5)\n",
    "\n",
    "# print(\"Cross-Validation Scores:\", scores)\n",
    "\n",
    "# # Calculate and print the mean and standard deviation of the scores\n",
    "# print(\"Mean Score:\", np.mean(scores))\n",
    "# print(\"Standard Deviation:\", np.std(scores))\n",
    "\n",
    "# best_svc.fit(x_train, y_train)\n",
    "\n",
    "# Predict on the test set\n",
    "y_pred = grid_search.predict(x_test)\n",
    "# Calculate accuracy on the test set\n",
    "# accuracy = accuracy_score(y_test, y_pred)\n",
    "# print(\"Test Set Accuracy:\", accuracy)"
   ]
  },
  {
   "cell_type": "code",
   "execution_count": 16,
   "id": "fa271e77",
   "metadata": {
    "execution": {
     "iopub.execute_input": "2023-08-18T13:30:03.585267Z",
     "iopub.status.busy": "2023-08-18T13:30:03.584576Z",
     "iopub.status.idle": "2023-08-18T13:30:03.599398Z",
     "shell.execute_reply": "2023-08-18T13:30:03.597719Z"
    },
    "papermill": {
     "duration": 0.039931,
     "end_time": "2023-08-18T13:30:03.606207",
     "exception": false,
     "start_time": "2023-08-18T13:30:03.566276",
     "status": "completed"
    },
    "tags": []
   },
   "outputs": [],
   "source": [
    "\n",
    "with open(os.path.join('/kaggle/working/', 'lndbestmodel.pkl'), 'wb') as f:\n",
    "    pickle.dump(grid_search, f)"
   ]
  },
  {
   "cell_type": "code",
   "execution_count": 17,
   "id": "3372dc6f",
   "metadata": {
    "execution": {
     "iopub.execute_input": "2023-08-18T13:30:03.641696Z",
     "iopub.status.busy": "2023-08-18T13:30:03.641010Z",
     "iopub.status.idle": "2023-08-18T13:30:04.206436Z",
     "shell.execute_reply": "2023-08-18T13:30:04.205077Z"
    },
    "papermill": {
     "duration": 0.586732,
     "end_time": "2023-08-18T13:30:04.209291",
     "exception": false,
     "start_time": "2023-08-18T13:30:03.622559",
     "status": "completed"
    },
    "tags": []
   },
   "outputs": [],
   "source": [
    "import matplotlib.pyplot as plt\n",
    "from sklearn.metrics import accuracy_score, precision_score, recall_score, f1_score\n",
    "from sklearn.metrics import roc_curve, roc_auc_score, confusion_matrix\n",
    "from sklearn.model_selection import train_test_split\n",
    "import seaborn as sns"
   ]
  },
  {
   "cell_type": "code",
   "execution_count": 18,
   "id": "c4481926",
   "metadata": {
    "execution": {
     "iopub.execute_input": "2023-08-18T13:30:04.228044Z",
     "iopub.status.busy": "2023-08-18T13:30:04.227651Z",
     "iopub.status.idle": "2023-08-18T13:30:04.249145Z",
     "shell.execute_reply": "2023-08-18T13:30:04.247897Z"
    },
    "papermill": {
     "duration": 0.03432,
     "end_time": "2023-08-18T13:30:04.251713",
     "exception": false,
     "start_time": "2023-08-18T13:30:04.217393",
     "status": "completed"
    },
    "tags": []
   },
   "outputs": [
    {
     "name": "stdout",
     "output_type": "stream",
     "text": [
      "Accuracy: 0.22405601400350086\n",
      "Precision: 0.2207444023768514\n",
      "Recall: 0.22405601400350086\n",
      "F1-Score: 0.2082655569674205\n"
     ]
    }
   ],
   "source": [
    "# Calculate evaluation metrics\n",
    "accuracy = accuracy_score(y_test, y_pred)\n",
    "precision = precision_score(y_test, y_pred, average='weighted')\n",
    "recall = recall_score(y_test, y_pred, average='weighted')\n",
    "f1 = f1_score(y_test, y_pred, average='weighted')\n",
    "\n",
    "print(\"Accuracy:\", accuracy)\n",
    "print(\"Precision:\", precision)\n",
    "print(\"Recall:\", recall)\n",
    "print(\"F1-Score:\", f1)"
   ]
  },
  {
   "cell_type": "code",
   "execution_count": 19,
   "id": "8e960cb1",
   "metadata": {
    "execution": {
     "iopub.execute_input": "2023-08-18T13:30:04.269838Z",
     "iopub.status.busy": "2023-08-18T13:30:04.269410Z",
     "iopub.status.idle": "2023-08-18T13:30:04.274217Z",
     "shell.execute_reply": "2023-08-18T13:30:04.273060Z"
    },
    "papermill": {
     "duration": 0.016914,
     "end_time": "2023-08-18T13:30:04.276710",
     "exception": false,
     "start_time": "2023-08-18T13:30:04.259796",
     "status": "completed"
    },
    "tags": []
   },
   "outputs": [],
   "source": [
    "# # Calculate ROC curve and AUC\n",
    "# y_scores = best_svc.decision_function(new_test)\n",
    "# roc_auc = roc_auc_score(y_test, y_scores)"
   ]
  },
  {
   "cell_type": "code",
   "execution_count": 20,
   "id": "bed03968",
   "metadata": {
    "execution": {
     "iopub.execute_input": "2023-08-18T13:30:04.294647Z",
     "iopub.status.busy": "2023-08-18T13:30:04.294257Z",
     "iopub.status.idle": "2023-08-18T13:30:04.299806Z",
     "shell.execute_reply": "2023-08-18T13:30:04.298725Z"
    },
    "papermill": {
     "duration": 0.017706,
     "end_time": "2023-08-18T13:30:04.302593",
     "exception": false,
     "start_time": "2023-08-18T13:30:04.284887",
     "status": "completed"
    },
    "tags": []
   },
   "outputs": [],
   "source": [
    "# # Plot ROC curve\n",
    "# fpr, tpr, thresholds = roc_curve(y_test, y_scores)\n",
    "# plt.figure()\n",
    "# plt.plot(fpr, tpr, color='darkorange', lw=2, label='ROC curve (area = %0.2f)' % roc_auc)\n",
    "# plt.plot([0, 1], [0, 1], color='navy', lw=2, linestyle='--')\n",
    "# plt.xlim([0.0, 1.0])\n",
    "# plt.ylim([0.0, 1.05])\n",
    "# plt.xlabel('False Positive Rate')\n",
    "# plt.ylabel('True Positive Rate')\n",
    "# plt.title('Receiver Operating Characteristic')\n",
    "# plt.legend(loc=\"lower right\")\n",
    "# plt.show()"
   ]
  },
  {
   "cell_type": "code",
   "execution_count": 21,
   "id": "173c86df",
   "metadata": {
    "execution": {
     "iopub.execute_input": "2023-08-18T13:30:04.320785Z",
     "iopub.status.busy": "2023-08-18T13:30:04.320347Z",
     "iopub.status.idle": "2023-08-18T13:30:04.818364Z",
     "shell.execute_reply": "2023-08-18T13:30:04.817183Z"
    },
    "papermill": {
     "duration": 0.510414,
     "end_time": "2023-08-18T13:30:04.821107",
     "exception": false,
     "start_time": "2023-08-18T13:30:04.310693",
     "status": "completed"
    },
    "tags": []
   },
   "outputs": [
    {
     "data": {
      "image/png": "[encoded data removed]",
      "text/plain": [
       "<Figure size 800x600 with 1 Axes>"
      ]
     },
     "metadata": {},
     "output_type": "display_data"
    }
   ],
   "source": [
    "# Plot confusion matrix\n",
    "conf_matrix = confusion_matrix(y_test, y_pred)\n",
    "plt.figure(figsize=(8, 6))\n",
    "sns.heatmap(conf_matrix, annot=True, fmt=\"d\", cmap=\"Blues\", cbar=False)\n",
    "plt.xlabel(\"Predicted\")\n",
    "plt.ylabel(\"Actual\")\n",
    "plt.title(\"Confusion Matrix\")\n",
    "plt.show()"
   ]
  }
 ],
 "metadata": {
  "kernelspec": {
   "display_name": "Python 3",
   "language": "python",
   "name": "python3"
  },
  "language_info": {
   "codemirror_mode": {
    "name": "ipython",
    "version": 3
   },
   "file_extension": ".py",
   "mimetype": "text/x-python",
   "name": "python",
   "nbconvert_exporter": "python",
   "pygments_lexer": "ipython3",
   "version": "3.10.12"
  },
  "papermill": {
   "default_parameters": {},
   "duration": 15328.542673,
   "end_time": "2023-08-18T13:30:06.191702",
   "environment_variables": {},
   "exception": null,
   "input_path": "__notebook__.ipynb",
   "output_path": "__notebook__.ipynb",
   "parameters": {},
   "start_time": "2023-08-18T09:14:37.649029",
   "version": "2.4.0"
  }
 },
 "nbformat": 4,
 "nbformat_minor": 5
}
